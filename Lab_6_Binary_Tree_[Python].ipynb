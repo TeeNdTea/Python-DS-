{
  "cells": [
    {
      "cell_type": "markdown",
      "metadata": {
        "id": "view-in-github",
        "colab_type": "text"
      },
      "source": [
        "<a href=\"https://colab.research.google.com/github/TeeNdTea/Python-DS-/blob/main/Lab_6_Binary_Tree_%5BPython%5D.ipynb\" target=\"_parent\"><img src=\"https://colab.research.google.com/assets/colab-badge.svg\" alt=\"Open In Colab\"/></a>"
      ]
    },
    {
      "cell_type": "code",
      "execution_count": null,
      "metadata": {
        "id": "D6vC520OPeTa"
      },
      "outputs": [],
      "source": [
        "class BTNode:\n",
        "  def __init__(self, elem):\n",
        "    self.elem = elem\n",
        "    self.right = None\n",
        "    self.left = None"
      ]
    },
    {
      "cell_type": "code",
      "execution_count": null,
      "metadata": {
        "id": "UDTKlm4-PfNM"
      },
      "outputs": [],
      "source": [
        "def inorder(root):\n",
        "  if root == None:\n",
        "    return\n",
        "\n",
        "  inorder(root.left)\n",
        "  print(root.elem, end = ' ')\n",
        "  inorder(root.right)"
      ]
    },
    {
      "cell_type": "code",
      "execution_count": null,
      "metadata": {
        "id": "Rtc22SPzPgzM",
        "outputId": "63592905-4233-4ca6-f887-e796536de90d",
        "colab": {
          "base_uri": "https://localhost:8080/"
        }
      },
      "outputs": [
        {
          "output_type": "stream",
          "name": "stdout",
          "text": [
            "H D B E A I F J C G k "
          ]
        }
      ],
      "source": [
        "def tree_construction(arr, i = 1):\n",
        "  if i>=len(arr) or arr[i] == None:\n",
        "    return None\n",
        "  p = BTNode(arr[i])\n",
        "  p.left = tree_construction(arr, 2*i)\n",
        "  p.right = tree_construction(arr, 2*i+1)\n",
        "  return p\n",
        "\n",
        "\n",
        "root2 = tree_construction([None, 'A', 'B', 'C', 'D', 'E', 'F', 'G', 'H', None, None, None, 'I', 'J', None, 'k'])\n",
        "inorder(root2)"
      ]
    },
    {
      "cell_type": "markdown",
      "metadata": {
        "id": "S2nNCJNhPqGq"
      },
      "source": [
        "Task 1"
      ]
    },
    {
      "cell_type": "code",
      "execution_count": null,
      "metadata": {
        "id": "zbBHU3FoPieb",
        "outputId": "02fc9b38-ceed-4473-f83e-771536f39066",
        "colab": {
          "base_uri": "https://localhost:8080/"
        }
      },
      "outputs": [
        {
          "output_type": "stream",
          "name": "stdout",
          "text": [
            "Given Tree Inorder Traversal:  40 20 60 10 30 \n",
            "Mirrored Tree Inorder Traversal:  30 10 60 20 40 "
          ]
        }
      ],
      "source": [
        "def convert_mirror(root):\n",
        "  #To Do\n",
        "    if root==None:\n",
        "        return None\n",
        "    root.left, root.right = root.right, root.left\n",
        "    convert_mirror(root.left)\n",
        "    convert_mirror(root.right)\n",
        "\n",
        "    return root\n",
        "\n",
        "\n",
        "#DRIVER CODE\n",
        "root = BTNode(10)\n",
        "n1 = BTNode(20)\n",
        "n2 = BTNode(30)\n",
        "n3 = BTNode(40)\n",
        "n4 = BTNode(60)\n",
        "\n",
        "root.left = n1\n",
        "root.right = n2\n",
        "\n",
        "n1.left = n3\n",
        "n1.right = n4\n",
        "\n",
        "print('Given Tree Inorder Traversal: ', end = ' ')\n",
        "inorder(root) #Given Tree Inorder Traversal:  40 20 60 10 30\n",
        "print()\n",
        "\n",
        "root2 = convert_mirror(root)\n",
        "print('Mirrored Tree Inorder Traversal: ', end = ' ')\n",
        "inorder(root2) #Mirrored Tree Inorder Traversal:  30 10 60 20 40"
      ]
    },
    {
      "cell_type": "markdown",
      "metadata": {
        "id": "c-TBf3m0PrtK"
      },
      "source": [
        "Task 2"
      ]
    },
    {
      "cell_type": "code",
      "execution_count": null,
      "metadata": {
        "id": "lsuxinlBPmji",
        "outputId": "0513be38-9f4c-47eb-fe90-cdf2b03a6df4",
        "colab": {
          "base_uri": "https://localhost:8080/"
        }
      },
      "outputs": [
        {
          "output_type": "stream",
          "name": "stdout",
          "text": [
            "Given Tree Inorder Traversal:  3 9 -5 4 2 7 \n",
            "Level Wise Smallest Value:  {0: 4, 1: 2, 2: -5}\n"
          ]
        }
      ],
      "source": [
        "def smallest_level(root, level = {}, i = 0):\n",
        "  #To Do\n",
        "    if root==None:\n",
        "        return level\n",
        "    if i in level:\n",
        "        if root.elem<level[i]:\n",
        "            level[i] = root.elem\n",
        "    else:\n",
        "        level[i] = root.elem\n",
        "    smallest_level(root.left, level, i+1)\n",
        "    smallest_level(root.right, level, i+1)\n",
        "    return level\n",
        "\n",
        "\n",
        "#DRIVER CODE\n",
        "root = tree_construction([None, 4,9,2,3,-5,None,7])\n",
        "print('Given Tree Inorder Traversal: ', end = ' ')\n",
        "inorder(root) #Given Tree Inorder Traversal:  3 9 -5 4 2 7\n",
        "print()\n",
        "print('Level Wise Smallest Value: ', end = ' ')\n",
        "print(smallest_level(root)) #Level Wise Smallest Value:  {0: 4, 1: 2, 2: -5}"
      ]
    },
    {
      "cell_type": "markdown",
      "metadata": {
        "id": "t3IGW4OaP8Vy"
      },
      "source": [
        "Task 3"
      ]
    },
    {
      "cell_type": "code",
      "execution_count": null,
      "metadata": {
        "id": "m4E9_E8PThk6"
      },
      "outputs": [],
      "source": [
        "def sumTree(root):\n",
        "\n",
        "  # To DO\n",
        "  if root==None:\n",
        "        return root\n",
        "  add = 0\n",
        "  level = 0\n",
        "  def helper(node, level):\n",
        "        if node==None:\n",
        "            return 0\n",
        "        if level==0:\n",
        "            return (node.elem) + helper(node.left, level+1) + helper(node.right, level+1)\n",
        "        else:\n",
        "            return (node.elem%level) + helper(node.left, level+1) + helper(node.right, level+1)\n",
        "  add += helper(root, level)\n",
        "  return add\n",
        "  #you can declare as many helper function with extra parameters as you need .\n",
        "  #You can not modify the parameters of sumTree or modify any part of the given code."
      ]
    },
    {
      "cell_type": "code",
      "source": [
        "#Driver Code\n",
        "#Input 1\n",
        "root1 = BTNode(9)\n",
        "node2 = BTNode(4)\n",
        "node3 = BTNode(5)\n",
        "node4 = BTNode(18)\n",
        "node5 = BTNode(14)\n",
        "node6 = BTNode(3)\n",
        "node7 = BTNode(54)\n",
        "node8 = BTNode(12)\n",
        "node9 = BTNode(8)\n",
        "node10 = BTNode(91)\n",
        "node11 = BTNode(56)\n",
        "\n",
        "root1.left = node2\n",
        "root1.right = node3\n",
        "\n",
        "node2.left = node4\n",
        "\n",
        "node3.left = node5\n",
        "node3.right = node6\n",
        "\n",
        "node4.left = node7\n",
        "node4.right = node8\n",
        "\n",
        "node5.left = node9\n",
        "\n",
        "node8.left = node10\n",
        "node8.right = node11\n",
        "\n",
        "print(sumTree(root1)) #This should print 15"
      ],
      "metadata": {
        "id": "wV3ezsf_Kwli",
        "outputId": "e22742ac-811c-4e36-a334-a07ec1a6013d",
        "colab": {
          "base_uri": "https://localhost:8080/"
        }
      },
      "execution_count": null,
      "outputs": [
        {
          "output_type": "stream",
          "name": "stdout",
          "text": [
            "15\n"
          ]
        }
      ]
    },
    {
      "cell_type": "markdown",
      "source": [
        "Task 4\n"
      ],
      "metadata": {
        "id": "8GJeWub8Ki1X"
      }
    },
    {
      "cell_type": "code",
      "source": [
        "def swap_child(root, level, M):\n",
        "\n",
        "  #To Do\n",
        "  if root==None:\n",
        "        return None\n",
        "  if level<M:\n",
        "        root.left, root.right = root.right, root.left\n",
        "  swap_child(root.left, level+1, M)\n",
        "  swap_child(root.right, level+1, M)\n",
        "\n",
        "  return root\n",
        "\n",
        "#Driver Code\n",
        "root=BTNode('A')\n",
        "#Write other nodes by yourself from the given tree of Doc File\n",
        "\n",
        "\n",
        "print('Given Tree Inorder Traversal: ', end = ' ')\n",
        "inorder(root)   #Given Tree Inorder Traversal: G D H B I E A C J F\n",
        "print()\n",
        "\n",
        "root2 = swap_child(root, 0, 2)\n",
        "print('Swapped Tree Inorder Traversal: ', end = ' ')\n",
        "inorder(root2)  #Swapped Tree Inorder Traversal: J F C A I E B G D H"
      ],
      "metadata": {
        "id": "0Rb_m6FRKktN",
        "outputId": "18991eb6-6950-44db-a263-5b847857e330",
        "colab": {
          "base_uri": "https://localhost:8080/"
        }
      },
      "execution_count": null,
      "outputs": [
        {
          "output_type": "stream",
          "name": "stdout",
          "text": [
            "Given Tree Inorder Traversal:  A \n",
            "Swapped Tree Inorder Traversal:  A "
          ]
        }
      ]
    },
    {
      "cell_type": "markdown",
      "source": [
        "Task 5"
      ],
      "metadata": {
        "id": "VrHklDOEKlHf"
      }
    },
    {
      "cell_type": "code",
      "source": [
        "# def subtract_summation(root):\n",
        "#   #To Do\n",
        "#   if root==None:\n",
        "#       return 0\n",
        "#   level = 0\n",
        "#   def helper(node, level):\n",
        "#         if node==None:\n",
        "#           return 0\n",
        "#         return node.elem + helper(node.left, level+1) + helper(node.right, level+1)\n",
        "#   return (helper(root.left,level)-helper(root.right,level))\n",
        "\n",
        "\n",
        "def subtract_summation(root):\n",
        "    def compute_sum(node):\n",
        "        if node==None:\n",
        "            return 0\n",
        "        left_sum=compute_sum(node.left)\n",
        "        right_sum=compute_sum(node.right)\n",
        "        total_sum=node.elem+left_sum+right_sum\n",
        "        return total_sum\n",
        "    if root==None:\n",
        "        return 0\n",
        "    left_sum=compute_sum(root.left)\n",
        "    right_sum=compute_sum(root.right)\n",
        "    res=left_sum-right_sum\n",
        "    return res\n",
        "\n",
        "\n",
        "\n",
        "#Driver Code\n",
        "root=BTNode(71)\n",
        "root.right = BTNode(62)\n",
        "root.left = BTNode(27)\n",
        "root.right.left = BTNode(41)\n",
        "root.left.right = BTNode(75)\n",
        "root.right.right = BTNode(3)\n",
        "root.left.left = BTNode(80)\n",
        "root.right.right.right = BTNode(89)\n",
        "root.right.right.left = BTNode(19)\n",
        "root.left.left.left = BTNode(87)\n",
        "root.left.left.right = BTNode(56)\n",
        "#Write other nodes by yourself from the given tree of Doc File\n",
        "\n",
        "\n",
        "print(subtract_summation(root)) #This should print 111"
      ],
      "metadata": {
        "id": "dMXJ2qxkNn_F",
        "outputId": "758b8904-0204-46a6-a76b-9262dcaa313e",
        "colab": {
          "base_uri": "https://localhost:8080/"
        }
      },
      "execution_count": null,
      "outputs": [
        {
          "output_type": "stream",
          "name": "stdout",
          "text": [
            "111\n"
          ]
        }
      ]
    },
    {
      "cell_type": "markdown",
      "metadata": {
        "id": "SBD-0xoZP_ni"
      },
      "source": [
        "Task 6"
      ]
    },
    {
      "cell_type": "code",
      "source": [
        "def level_sum(root):\n",
        "  #To Do\n",
        "    if root==None:\n",
        "        return 0\n",
        "\n",
        "    def helper(node, level):\n",
        "        if node==None:\n",
        "            return 0\n",
        "        current = node.elem\n",
        "        if level%2==1:\n",
        "            current=node.elem\n",
        "        else:\n",
        "            current-=node.elem\n",
        "        return current+helper(node.left, level + 1)+helper(node.right, level + 1)\n",
        "\n",
        "#DRIVER CODE\n",
        "root = BTNode(1)\n",
        "n2 = BTNode(2)\n",
        "n3 = BTNode(3)\n",
        "n4 = BTNode(4)\n",
        "n5 = BTNode(5)\n",
        "n6 = BTNode(6)\n",
        "n7 = BTNode(7)\n",
        "n8 = BTNode(8)\n",
        "root.left = n2\n",
        "root.right = n3\n",
        "\n",
        "n2.left = n4\n",
        "n3.left = n5\n",
        "n3.right = n6\n",
        "\n",
        "n5.left = n7\n",
        "n5.right = n8\n",
        "\n",
        "\n",
        "print(level_sum(root)) #This should print 4"
      ],
      "metadata": {
        "id": "U_LYhaRIxZCb",
        "colab": {
          "base_uri": "https://localhost:8080/"
        },
        "outputId": "e88c5226-27c7-4ce1-ff8f-dccbdce525f2"
      },
      "execution_count": null,
      "outputs": [
        {
          "output_type": "stream",
          "name": "stdout",
          "text": [
            "(<__main__.BTNode object at 0x7e38c2682f90>, 1)\n"
          ]
        }
      ]
    }
  ],
  "metadata": {
    "colab": {
      "provenance": [],
      "include_colab_link": true
    },
    "kernelspec": {
      "display_name": "Python 3",
      "name": "python3"
    },
    "language_info": {
      "name": "python"
    }
  },
  "nbformat": 4,
  "nbformat_minor": 0
}