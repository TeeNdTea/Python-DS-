{
  "nbformat": 4,
  "nbformat_minor": 0,
  "metadata": {
    "colab": {
      "provenance": [],
      "include_colab_link": true
    },
    "kernelspec": {
      "name": "python3",
      "display_name": "Python 3"
    },
    "language_info": {
      "name": "python"
    }
  },
  "cells": [
    {
      "cell_type": "markdown",
      "metadata": {
        "id": "view-in-github",
        "colab_type": "text"
      },
      "source": [
        "<a href=\"https://colab.research.google.com/github/TeeNdTea/Python-DS-/blob/main/Solve_2_Singly_%26_Doubly_LinkedList%5BPython%5D.ipynb\" target=\"_parent\"><img src=\"https://colab.research.google.com/assets/colab-badge.svg\" alt=\"Open In Colab\"/></a>"
      ]
    },
    {
      "cell_type": "code",
      "execution_count": null,
      "metadata": {
        "id": "Pp1R95Pe7ID2",
        "colab": {
          "base_uri": "https://localhost:8080/"
        },
        "outputId": "71247c35-9600-4eb5-9d9c-f108fabe982c"
      },
      "outputs": [
        {
          "output_type": "stream",
          "name": "stdout",
          "text": [
            "Collecting fhm-unittest\n",
            "  Downloading fhm_unittest-1.0.1-py3-none-any.whl.metadata (1.9 kB)\n",
            "Downloading fhm_unittest-1.0.1-py3-none-any.whl (2.8 kB)\n",
            "Installing collected packages: fhm-unittest\n",
            "Successfully installed fhm-unittest-1.0.1\n",
            "Collecting fuzzywuzzy\n",
            "  Downloading fuzzywuzzy-0.18.0-py2.py3-none-any.whl.metadata (4.9 kB)\n",
            "Downloading fuzzywuzzy-0.18.0-py2.py3-none-any.whl (18 kB)\n",
            "Installing collected packages: fuzzywuzzy\n",
            "Successfully installed fuzzywuzzy-0.18.0\n"
          ]
        },
        {
          "output_type": "stream",
          "name": "stderr",
          "text": [
            "/usr/local/lib/python3.11/dist-packages/fuzzywuzzy/fuzz.py:11: UserWarning: Using slow pure-python SequenceMatcher. Install python-Levenshtein to remove this warning\n",
            "  warnings.warn('Using slow pure-python SequenceMatcher. Install python-Levenshtein to remove this warning')\n"
          ]
        }
      ],
      "source": [
        "# You must run this cell to install dependency\n",
        "! pip3 install fhm-unittest\n",
        "! pip3 install fuzzywuzzy\n",
        "import fhm_unittest as unittest\n",
        "import numpy as np"
      ]
    },
    {
      "cell_type": "markdown",
      "source": [
        "# **Singly Linked List**"
      ],
      "metadata": {
        "id": "nP5nV0lfQVAt"
      }
    },
    {
      "cell_type": "markdown",
      "source": [
        "\n",
        "\n",
        "1.   Be careful in which question you are required to change the given Linked list and where you are required to create a new one\n",
        "2.   Be careful of the first node and the last node [aka corner cases]\n",
        "3.   Do not use any other data structure other than Linked List\n",
        "\n"
      ],
      "metadata": {
        "id": "4LYYhNdvi03h"
      }
    },
    {
      "cell_type": "markdown",
      "source": [
        "**You must Run this cell for your driver code to Singly LL tasks to execute successfully**"
      ],
      "metadata": {
        "id": "b7eLAb26jNlR"
      }
    },
    {
      "cell_type": "code",
      "execution_count": null,
      "metadata": {
        "id": "Yvtwdm02iNbm"
      },
      "outputs": [],
      "source": [
        "#Run this cell\n",
        "class Node:\n",
        "  def __init__(self,elem,next = None):\n",
        "    self.elem,self.next = elem,next\n",
        "\n",
        "def createList(arr):\n",
        "  head = Node(arr[0])\n",
        "  tail = head\n",
        "  for i in range(1,len(arr)):\n",
        "    newNode = Node(arr[i])\n",
        "    tail.next = newNode\n",
        "    tail = newNode\n",
        "  return head\n",
        "\n",
        "def printLinkedList(head):\n",
        "  temp = head\n",
        "  while temp != None:\n",
        "    if temp.next != None:\n",
        "      print(temp.elem, end = '-->')\n",
        "    else:\n",
        "      print(temp.elem)\n",
        "    temp = temp.next\n",
        "  print()"
      ]
    },
    {
      "cell_type": "markdown",
      "source": [
        "**Task 1:** Alternate Merge"
      ],
      "metadata": {
        "id": "KH4qPwI-nIN4"
      }
    },
    {
      "cell_type": "code",
      "source": [
        "def alternate_merge(head1, head2):\n",
        "    n = Node(head1.elem, head2)\n",
        "    temp = n.next\n",
        "    head1 = head1.next\n",
        "    head2 = head2.next\n",
        "    while head1!=None and head2!=None:\n",
        "        temp.next = head1\n",
        "        head1 = head1.next\n",
        "        temp = temp.next\n",
        "        temp.next = head2\n",
        "        head2 = head2.next\n",
        "        temp = temp.next\n",
        "    return n\n",
        "\n",
        "\n",
        "print('==============Test Case 1=============')\n",
        "head1 = createList(np.array([1,2,6,8,11]))\n",
        "head2 = createList(np.array([5,7,3,9,4]))\n",
        "\n",
        "print(\"Linked List 1:\")\n",
        "printLinkedList(head1)\n",
        "print(\"Linked List 2:\")\n",
        "printLinkedList(head2)\n",
        "\n",
        "head = alternate_merge(head1, head2)\n",
        "print(\"Merged Linked List:\")\n",
        "printLinkedList(head)    #This should print    1 --> 5 --> 2 --> 7 --> 6 --> 3 --> 8 --> 9 --> 11 --> 4\n",
        "\n",
        "\n",
        "print('==============Test Case 2=============')\n",
        "head1 = createList(np.array([5, 3, 2, -4]))\n",
        "head2 = createList(np.array([-4, -6, 1]))\n",
        "\n",
        "print(\"Linked List 1:\")\n",
        "printLinkedList(head1)\n",
        "print(\"Linked List 2:\")\n",
        "printLinkedList(head2)\n",
        "\n",
        "head = alternate_merge(head1, head2)\n",
        "print(\"Merged Linked List:\")\n",
        "printLinkedList(head)    #This should print    5 → -4 -> 3 → -6 -> 2 -> 1 -> -4\n",
        "\n",
        "\n",
        "print('==============Test Case 3=============')\n",
        "head1 = createList(np.array([4, 2, -2, -4]))\n",
        "head2 = createList(np.array([8, 6, 5, -3]))\n",
        "\n",
        "print(\"Linked List 1:\")\n",
        "printLinkedList(head1)\n",
        "print(\"Linked List 2:\")\n",
        "printLinkedList(head2)\n",
        "\n",
        "head = alternate_merge(head1, head2)\n",
        "print(\"Merged Linked List:\")\n",
        "printLinkedList(head)    #This should print   4-> 8 → 2-> 6 → -2 → 5 → -4 -> -3\n"
      ],
      "metadata": {
        "id": "0D7bZtp1nMRI",
        "colab": {
          "base_uri": "https://localhost:8080/"
        },
        "outputId": "2b21ab7c-5b78-406e-9058-cd2fea07ba49"
      },
      "execution_count": null,
      "outputs": [
        {
          "output_type": "stream",
          "name": "stdout",
          "text": [
            "==============Test Case 1=============\n",
            "Linked List 1:\n",
            "1-->2-->6-->8-->11\n",
            "\n",
            "Linked List 2:\n",
            "5-->7-->3-->9-->4\n",
            "\n",
            "Merged Linked List:\n",
            "1-->5-->2-->7-->6-->3-->8-->9-->11-->4\n",
            "\n",
            "==============Test Case 2=============\n",
            "Linked List 1:\n",
            "5-->3-->2-->-4\n",
            "\n",
            "Linked List 2:\n",
            "-4-->-6-->1\n",
            "\n",
            "Merged Linked List:\n",
            "5-->-4-->3-->-6-->2-->1\n",
            "\n",
            "==============Test Case 3=============\n",
            "Linked List 1:\n",
            "4-->2-->-2-->-4\n",
            "\n",
            "Linked List 2:\n",
            "8-->6-->5-->-3\n",
            "\n",
            "Merged Linked List:\n",
            "4-->8-->2-->6-->-2-->5-->-4-->-3\n",
            "\n"
          ]
        }
      ]
    },
    {
      "cell_type": "markdown",
      "source": [
        "**Task 2:** Word Decoder"
      ],
      "metadata": {
        "id": "iD_ytSvbloPy"
      }
    },
    {
      "cell_type": "code",
      "source": [
        "def word_Decoder(head):\n",
        "  count  = 0\n",
        "  num = 0\n",
        "  temp = head\n",
        "  while temp!= None:\n",
        "    count+=1\n",
        "    temp=temp.next\n",
        "  x=13%count\n",
        "  temp=head\n",
        "  new1=None\n",
        "  i=0\n",
        "  while i<count:\n",
        "    if i%x==0 and i!=0:\n",
        "        n = Node(temp.elem, new1)\n",
        "        new1 = n\n",
        "    temp = temp.next\n",
        "    i+=1\n",
        "\n",
        "  result = Node(None, new1)\n",
        "  return result\n",
        "\n",
        "\n",
        "\n",
        "#Driver Code\n",
        "print('==============Test Case 1=============')\n",
        "head = createList(np.array(['B', 'M', 'D', 'T', 'N', 'O', 'A', 'P', 'S', 'C']))\n",
        "print(\"Encoded Word:\")\n",
        "printLinkedList(head) #This should print B→M→D→T→N→O→A→P→S→C\n",
        "\n",
        "result = word_Decoder(head)\n",
        "print(\"Decoded Word:\")\n",
        "printLinkedList(result)    #This should print None→C→A→T\n",
        "\n",
        "print('==============Test Case 2=============')\n",
        "\n",
        "head = createList(np.array(['Z', 'O', 'T', 'N', 'X']))\n",
        "print(\"Encoded Word:\")\n",
        "printLinkedList(head) #This should print Z→O→T→N→X\n",
        "\n",
        "result = word_Decoder(head)\n",
        "print(\"Decoded Word:\")\n",
        "printLinkedList(result)    #This should print None→N"
      ],
      "metadata": {
        "id": "PU6PxoNllxdf",
        "colab": {
          "base_uri": "https://localhost:8080/"
        },
        "outputId": "4e32fbcb-a86b-42ec-cd8e-9dac247b427c"
      },
      "execution_count": null,
      "outputs": [
        {
          "output_type": "stream",
          "name": "stdout",
          "text": [
            "==============Test Case 1=============\n",
            "Encoded Word:\n",
            "B-->M-->D-->T-->N-->O-->A-->P-->S-->C\n",
            "\n",
            "Decoded Word:\n",
            "None-->C-->A-->T\n",
            "\n",
            "==============Test Case 2=============\n",
            "Encoded Word:\n",
            "Z-->O-->T-->N-->X\n",
            "\n",
            "Decoded Word:\n",
            "None-->N\n",
            "\n"
          ]
        }
      ]
    },
    {
      "cell_type": "markdown",
      "source": [
        "**Task 3:** ID Generator"
      ],
      "metadata": {
        "id": "pNihvj0mqZGx"
      }
    },
    {
      "cell_type": "code",
      "source": [
        "def idGenerator(head1, head2, head3):\n",
        "    temp1 = head1\n",
        "    temp2 = head2\n",
        "    temp3 = head3\n",
        "    add = 0\n",
        "\n",
        "    new_head = None\n",
        "    temp = head1\n",
        "    while temp!= None:\n",
        "            n = temp.next\n",
        "            temp.next = new_head\n",
        "            new_head = temp\n",
        "            temp = n\n",
        "    ending_node = None\n",
        "    add = temp2.elem +temp3.elem\n",
        "    if add>=10:\n",
        "      add = add%10\n",
        "    head = Node(add,None)\n",
        "    tail = head\n",
        "    temp2 = temp2.next\n",
        "    temp3 = temp3.next\n",
        "    while temp2 and temp3:\n",
        "        add = temp2.elem +temp3.elem\n",
        "        if add>=10:\n",
        "          add = add%10\n",
        "        n = Node(add,None)\n",
        "        tail.next = n\n",
        "        tail = n\n",
        "        temp2 = temp2.next\n",
        "        temp3 = temp3.next\n",
        "\n",
        "    current = new_head\n",
        "    while current.next:\n",
        "        current = current.next\n",
        "    current.next = head\n",
        "\n",
        "\n",
        "    return new_head\n",
        "\n",
        "print('==============Test Case 1=============')\n",
        "head1 = createList(np.array([0,3,2,2]))\n",
        "head2 = createList(np.array([5,2,2,1]))\n",
        "head3 = createList(np.array([4,3,2,1]))\n",
        "\n",
        "print(\"Linked List 1:\")\n",
        "printLinkedList(head1)\n",
        "print(\"Linked List 2:\")\n",
        "printLinkedList(head2)\n",
        "print(\"Linked List 3:\")\n",
        "printLinkedList(head3)\n",
        "\n",
        "result = idGenerator(head1, head2, head3)\n",
        "print(\"New ID:\")\n",
        "printLinkedList(result)    #This should print  2 → 2 → 3 → 0 → 9 → 5 → 4 → 2\n",
        "\n",
        "\n",
        "print('==============Test Case 2=============')\n",
        "head1 = createList(np.array([0,3,9,1]))\n",
        "head2 = createList(np.array([3,6,5,7]))\n",
        "head3 = createList(np.array([2,4,3,8]))\n",
        "\n",
        "print(\"Linked List 1:\")\n",
        "printLinkedList(head1)\n",
        "print(\"Linked List 2:\")\n",
        "printLinkedList(head2)\n",
        "print(\"Linked List 3:\")\n",
        "printLinkedList(head3)\n",
        "\n",
        "result = idGenerator(head1, head2, head3)\n",
        "print(\"New ID:\")\n",
        "printLinkedList(result)    #This should print 1 → 9 → 3 → 0 → 5 → 0 → 8 → 5"
      ],
      "metadata": {
        "id": "RxtRlCVCqcHV",
        "colab": {
          "base_uri": "https://localhost:8080/"
        },
        "outputId": "1c44f370-2009-48e1-fc69-388b514da02a"
      },
      "execution_count": null,
      "outputs": [
        {
          "output_type": "stream",
          "name": "stdout",
          "text": [
            "==============Test Case 1=============\n",
            "Linked List 1:\n",
            "0-->3-->2-->2\n",
            "\n",
            "Linked List 2:\n",
            "5-->2-->2-->1\n",
            "\n",
            "Linked List 3:\n",
            "4-->3-->2-->1\n",
            "\n",
            "New ID:\n",
            "2-->2-->3-->0-->9-->5-->4-->2\n",
            "\n",
            "==============Test Case 2=============\n",
            "Linked List 1:\n",
            "0-->3-->9-->1\n",
            "\n",
            "Linked List 2:\n",
            "3-->6-->5-->7\n",
            "\n",
            "Linked List 3:\n",
            "2-->4-->3-->8\n",
            "\n",
            "New ID:\n",
            "1-->9-->3-->0-->5-->0-->8-->5\n",
            "\n"
          ]
        }
      ]
    },
    {
      "cell_type": "markdown",
      "source": [
        "# **Doubly Linked List**"
      ],
      "metadata": {
        "id": "A1zD8GyBKEdA"
      }
    },
    {
      "cell_type": "markdown",
      "source": [
        "For this part, you should write your full code in the following cells along with your driver codes on your own."
      ],
      "metadata": {
        "id": "z4q4a-vSNoII"
      }
    },
    {
      "cell_type": "code",
      "source": [
        "class Patient:\n",
        "  #write a constructor\n",
        "  def __init__(self, id, name, age, bloodgroup, next, prev):\n",
        "    self.id = id\n",
        "    self.name = name\n",
        "    self.age = age\n",
        "    self.bloodgroup = bloodgroup\n",
        "    self.next = next\n",
        "    self.prev = prev"
      ],
      "metadata": {
        "id": "itoWpG7oNziA"
      },
      "execution_count": null,
      "outputs": []
    },
    {
      "cell_type": "code",
      "source": [
        "class WRM:\n",
        "\n",
        "  def __init__(self):\n",
        "    #Creating the dummy head\n",
        "    self.dh = Patient(None,None,None,None,None,None)\n",
        "    self.dh.next = self.dh\n",
        "    self.dh.prev = self.dh\n",
        "\n",
        "  def registerPatient(self,id, name, age, bloodgroup):\n",
        "    #To Do\n",
        "    newPatient = Patient(id, name, age, bloodgroup)\n",
        "    tail = self.dh.prev\n",
        "    tail.next = newPatient\n",
        "    newPatient.prev = tail\n",
        "    newPatient.next = self.dh\n",
        "    self.dh.prev = newPatient\n",
        "    print(\"Success, patient added\")\n",
        "\n",
        "  def servePatient(self):\n",
        "    if self.dh.next == self.dh:\n",
        "        print(\"There are no patients\")\n",
        "    else:\n",
        "        firstPatient = self.dh.next\n",
        "        self.dh.next = firstPatient.next\n",
        "        firstPatient.next.prev = self.dh\n",
        "        print(f\"Serving Patient: {firstPatient.name}\")\n",
        "        del firstPatient\n",
        "\n",
        "  def showAllPatient(self):\n",
        "    if self.dh.next == self.dh:\n",
        "      print(\"No patients in waiting\")\n",
        "    else:\n",
        "      currentPatient = self.dh.next\n",
        "      print(\"Patients to serve:\")\n",
        "      while currentPatient != self.dh:\n",
        "        print(f\"ID: {currentPatient.id}, Name: {currentPatient.name}\")\n",
        "        currentPatient = currentPatient.next\n",
        "\n",
        "  def canDoctorGoHome(self):\n",
        "    #To Do\n",
        "    if self.dh.next == self.dh:\n",
        "      print(\"Yes, the doctor can leave\")\n",
        "      return True\n",
        "    else:\n",
        "      print(\"No, there are still patients remaining\")\n",
        "      return False\n",
        "\n",
        "  def cancelAll(self):\n",
        "    #To Do\n",
        "    self.dh.next = self.dh\n",
        "    self.dh.prev = self.dh\n",
        "    print(\"Successful, all appointments cancelled.\")\n",
        "\n",
        "\n",
        "  def ReverseTheLine(self):\n",
        "    #To Do\n",
        "    if self.dh.next == self.dh:\n",
        "      print(\"Unsuccessful, there are no patients.\")\n",
        "      return\n",
        "    currentPatient = self.dh.next\n",
        "    while currentPatient != self.dh:\n",
        "      currentPatient.next, currentPatient.prev = currentPatient.prev, currentPatient.next\n",
        "      currentPatient = currentPatient.prev\n",
        "    self.dh.next, self.dh.prev = self.dh.prev, self.dh.next\n",
        "    print(\"Successful, patient line reversed.\")\n"
      ],
      "metadata": {
        "id": "dNx7zTJ1OZNv"
      },
      "execution_count": null,
      "outputs": []
    },
    {
      "cell_type": "code",
      "source": [
        "#Write a Tester Code in this cell\n",
        "print(\"**Welcome to Waiting Room Management System**\")\n",
        "print(\"**Welcome to Waiting Room Management System**\")\n",
        "waitingRoom = WRM()\n",
        "while True:\n",
        "        print(\"Options:\")\n",
        "        print(\"a. Register Patient\")\n",
        "        print(\"b. Serve Patient\")\n",
        "        print(\"c. Show All Patients\")\n",
        "        print(\"d. Can Doctor Go Home?\")\n",
        "        print(\"e. Cancel All Appointments\")\n",
        "        print(\"f. Reverse the line\")\n",
        "        print(\"g. Exit\")\n",
        "\n",
        "        slot = (input(\"Enter your desired slot: \"))\n",
        "        if slot == \"a\":\n",
        "            id = int(input(\"Enter ID: \"))\n",
        "            name = input(\"Enter name: \")\n",
        "            age = int(input(\"Enter age: \"))\n",
        "            bloodgroup = input(\"Enter blood group: \")\n",
        "            waitingRoom.registerPatient(id, name, age, bloodgroup)\n",
        "        elif slot == \"b\":\n",
        "            waitingRoom.servePatient()\n",
        "        elif slot == \"c\":\n",
        "            waitingRoom.showAllPatient()\n",
        "        elif slot == \"d\":\n",
        "            waitingRoom.canDoctorGoHome()\n",
        "        elif slot == \"e\":\n",
        "            waitingRoom.cancelAll()\n",
        "        elif slot == \"f\":\n",
        "            waitingRoom.ReverseTheLine()\n",
        "        elif slot == \"g\":\n",
        "            print(\"Closing\")\n",
        "            break\n",
        "        else:\n",
        "            print(\"Invalid slot\")"
      ],
      "metadata": {
        "id": "jKhbn1LAPfjr",
        "colab": {
          "base_uri": "https://localhost:8080/"
        },
        "outputId": "f1fca9dd-3dcb-4771-9a8a-58045b417fa1"
      },
      "execution_count": null,
      "outputs": [
        {
          "output_type": "stream",
          "name": "stdout",
          "text": [
            "**Welcome to Waiting Room Management System**\n",
            "**Welcome to Waiting Room Management System**\n",
            "Options:\n",
            "a. Register Patient\n",
            "b. Serve Patient\n",
            "c. Show All Patients\n",
            "d. Can Doctor Go Home?\n",
            "e. Cancel All Appointments\n",
            "f. Reverse the lwine\n",
            "g. Exit\n",
            "Enter your choice: e\n",
            "Successful, all appointments cancelled.\n",
            "Options:\n",
            "a. Register Patient\n",
            "b. Serve Patient\n",
            "c. Show All Patients\n",
            "d. Can Doctor Go Home?\n",
            "e. Cancel All Appointments\n",
            "f. Reverse the lwine\n",
            "g. Exit\n",
            "Enter your choice: f\n",
            "Unsuccessful, there are no patients.\n",
            "Options:\n",
            "a. Register Patient\n",
            "b. Serve Patient\n",
            "c. Show All Patients\n",
            "d. Can Doctor Go Home?\n",
            "e. Cancel All Appointments\n",
            "f. Reverse the lwine\n",
            "g. Exit\n",
            "Enter your choice: g\n",
            "Shutting down\n"
          ]
        }
      ]
    }
  ]
}