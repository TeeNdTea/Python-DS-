{
  "nbformat": 4,
  "nbformat_minor": 0,
  "metadata": {
    "colab": {
      "provenance": [],
      "authorship_tag": "ABX9TyM5iUVxJl6jLAXcCQprUsEp",
      "include_colab_link": true
    },
    "kernelspec": {
      "name": "python3",
      "display_name": "Python 3"
    },
    "language_info": {
      "name": "python"
    }
  },
  "cells": [
    {
      "cell_type": "markdown",
      "metadata": {
        "id": "view-in-github",
        "colab_type": "text"
      },
      "source": [
        "<a href=\"https://colab.research.google.com/github/TeeNdTea/Python-DS-/blob/main/Adj_Matrix_%26_List.ipynb\" target=\"_parent\"><img src=\"https://colab.research.google.com/assets/colab-badge.svg\" alt=\"Open In Colab\"/></a>"
      ]
    },
    {
      "cell_type": "code",
      "execution_count": null,
      "metadata": {
        "id": "dJSJvPl0VJ6G"
      },
      "outputs": [],
      "source": [
        "# ---------------------------\n",
        "# ADJACENCY MATRIX FUNCTIONS\n",
        "# ---------------------------"
      ]
    },
    {
      "cell_type": "code",
      "source": [
        "#Task-1\n",
        "def adj_mtx_max_deg(mat):\n",
        "    n=len(mat)\n",
        "    max_deg=0\n",
        "    for i in range(n):\n",
        "        deg=0\n",
        "        for j in range(n):\n",
        "            if mat[i][j] != 0:\n",
        "                deg+=1\n",
        "        if deg > max_deg:\n",
        "            max_deg=deg\n",
        "    return max_deg\n",
        "\n",
        "def main():\n",
        "    # --- Adjacency Matrix Tests ---\n",
        "    print(\"Max Degree:\")\n",
        "    mat = [[0 for _ in range(5)] for _ in range(5)]\n",
        "    mat[0][1] = mat[1][0] = 1\n",
        "    mat[0][2] = mat[2][0] = 1\n",
        "    mat[1][2] = mat[2][1] = 1\n",
        "    mat[1][3] = mat[3][1] = 1\n",
        "    mat[2][4] = mat[4][2] = 1\n",
        "    mat[3][4] = mat[4][3] = 1\n",
        "    print(adj_mtx_max_deg(mat))  # Output: 3\n",
        "main()"
      ],
      "metadata": {
        "colab": {
          "base_uri": "https://localhost:8080/"
        },
        "id": "8pSqX8lEVSYA",
        "outputId": "cfa9cf0b-60b4-4209-d564-ee21c9b8819b"
      },
      "execution_count": null,
      "outputs": [
        {
          "output_type": "stream",
          "name": "stdout",
          "text": [
            "Max Degree:\n",
            "3\n"
          ]
        }
      ]
    },
    {
      "cell_type": "code",
      "source": [
        "#task-2\n",
        "def adj_mtx_max_wt(mat):\n",
        "    n=len(mat)\n",
        "    max_wt=0\n",
        "    for i in range(n):\n",
        "        total=0\n",
        "        for j in range(n):\n",
        "            total+=mat[i][j]\n",
        "        if total > max_wt:\n",
        "            max_wt=total\n",
        "    return max_wt\n",
        "def main():\n",
        "    print(\"Max Weight:\")\n",
        "    wmat = [[0 for _ in range(5)] for _ in range(5)]\n",
        "    wmat[0][1] = wmat[1][0] = 3\n",
        "    wmat[0][2] = wmat[2][0] = 2\n",
        "    wmat[1][2] = wmat[2][1] = 4\n",
        "    wmat[1][3] = wmat[3][1] = 5\n",
        "    wmat[2][4] = wmat[4][2] = 1\n",
        "    wmat[3][4] = wmat[4][3] = 6\n",
        "    print(adj_mtx_max_wt(wmat))  # Output: 12\n",
        "main()"
      ],
      "metadata": {
        "colab": {
          "base_uri": "https://localhost:8080/"
        },
        "id": "YdljOP2KVUyd",
        "outputId": "a71094db-fcd9-4d71-8c8b-bff2d324d415"
      },
      "execution_count": null,
      "outputs": [
        {
          "output_type": "stream",
          "name": "stdout",
          "text": [
            "Max Weight:\n",
            "12\n"
          ]
        }
      ]
    },
    {
      "cell_type": "code",
      "source": [
        "#task-3\n",
        "def adj_mtx_dir_wt(mat):\n",
        "    n=len(mat)\n",
        "    max_wt=0\n",
        "    for i in range(n):\n",
        "        total=0\n",
        "        for j in range(n):\n",
        "            total+=mat[i][j]\n",
        "        if total>max_wt:\n",
        "            max_wt=total\n",
        "    return max_wt\n",
        "def main():\n",
        "    print(\"Directed Max Outgoing Weight:\")\n",
        "    dmat = [[0 for _ in range(5)] for _ in range(5)]\n",
        "    dmat[0][1] = 3\n",
        "    dmat[0][2] = 2\n",
        "    dmat[1][2] = 4\n",
        "    dmat[1][3] = 5\n",
        "    dmat[2][4] = 1\n",
        "    dmat[3][4] = 6\n",
        "    print(adj_mtx_dir_wt(dmat)) #Output 9\n",
        "main()"
      ],
      "metadata": {
        "colab": {
          "base_uri": "https://localhost:8080/"
        },
        "id": "cWgwkC0HYSpS",
        "outputId": "76b0d529-df44-416d-92e3-7c65a7e951de"
      },
      "execution_count": null,
      "outputs": [
        {
          "output_type": "stream",
          "name": "stdout",
          "text": [
            "Directed Max Outgoing Weight:\n",
            "9\n"
          ]
        }
      ]
    },
    {
      "cell_type": "code",
      "source": [
        "#Task-4\n",
        "def adj_mtx_dirToUndir(mat):\n",
        "    n=len(mat)\n",
        "    new_mat=[]\n",
        "    i=0\n",
        "    while i<n:\n",
        "        row=[]\n",
        "        j=0\n",
        "        while j<n:\n",
        "            row+=[0]\n",
        "            j+=1\n",
        "        new_mat+=[row]\n",
        "        i+=1\n",
        "    i=0\n",
        "    while i<n:\n",
        "        j=0\n",
        "        while j < n:\n",
        "            if mat[i][j] != 0 or mat[j][i] != 0:\n",
        "                if mat[i][j] != 0:\n",
        "                    new_mat[i][j] = mat[i][j]\n",
        "                else:\n",
        "                    new_mat[i][j] = mat[j][i]\n",
        "                new_mat[j][i] = new_mat[i][j]\n",
        "            j+=1\n",
        "        i+=1\n",
        "    return new_mat\n",
        "def main():\n",
        "    dmat = [[0 for _ in range(5)] for _ in range(5)]\n",
        "    dmat[0][1] = 3\n",
        "    dmat[0][2] = 2\n",
        "    dmat[1][2] = 4\n",
        "    dmat[1][3] = 5\n",
        "    dmat[2][4] = 1\n",
        "    dmat[3][4] = 6\n",
        "\n",
        "    print(\"Directed to Undirected:\")\n",
        "    undirected = adj_mtx_dirToUndir(dmat)\n",
        "    for row in undirected:\n",
        "        print(row)\n",
        "\n",
        "main()"
      ],
      "metadata": {
        "id": "cwFP0VqqZ4KI",
        "colab": {
          "base_uri": "https://localhost:8080/"
        },
        "outputId": "f4e0d1e1-f524-41da-cd7b-725666bad0a6"
      },
      "execution_count": 17,
      "outputs": [
        {
          "output_type": "stream",
          "name": "stdout",
          "text": [
            "Directed to Undirected:\n",
            "[0, 3, 2, 0, 0]\n",
            "[3, 0, 4, 5, 0]\n",
            "[2, 4, 0, 0, 1]\n",
            "[0, 5, 0, 0, 6]\n",
            "[0, 0, 1, 6, 0]\n"
          ]
        }
      ]
    },
    {
      "cell_type": "code",
      "source": [
        "# ------------------------\n",
        "# ADJACENCY LIST FUNCTIONS\n",
        "# ------------------------"
      ],
      "metadata": {
        "id": "uFHURvxubev_"
      },
      "execution_count": null,
      "outputs": []
    },
    {
      "cell_type": "code",
      "source": [
        "#task-5\n",
        "def adj_mtx_max_deg(l1):\n",
        "    n=len(l1)\n",
        "    max_deg=0\n",
        "    for i in range(n):\n",
        "        deg=0\n",
        "        for j in range(len(l1[i])):\n",
        "            deg+=1\n",
        "        if deg > max_deg:\n",
        "            max_deg=deg\n",
        "    return max_deg\n",
        "def main():\n",
        "    ulist = [[0 for _ in range(2)] for _ in range(5)]\n",
        "    ulist[0] = [1,2]\n",
        "    ulist[1] = [2,3]\n",
        "    ulist[2] = [4, -1]\n",
        "    ulist[3] = [4, -1]\n",
        "    ulist[4] = [-1, -1]\n",
        "    print(adj_mtx_max_deg(ulist))  #output 2\n",
        "main()"
      ],
      "metadata": {
        "colab": {
          "base_uri": "https://localhost:8080/"
        },
        "id": "cKtEeIdniWod",
        "outputId": "edabd80f-4708-4368-b251-cbc57cb6959c"
      },
      "execution_count": 12,
      "outputs": [
        {
          "output_type": "stream",
          "name": "stdout",
          "text": [
            "2\n"
          ]
        }
      ]
    },
    {
      "cell_type": "code",
      "source": [
        "#task-6\n",
        "def agj_list_weight(l2):\n",
        "    n=len(l2)\n",
        "    max_wt=0\n",
        "    for i in range(n):\n",
        "        total=0\n",
        "        for j in range(len(l2[i])):\n",
        "            total+=l2[i][j][1]\n",
        "        if total > max_wt:\n",
        "            max_wt = total\n",
        "    return max_wt\n",
        "def main():\n",
        "  print(\"Max Weight:\")\n",
        "  l2 = [\n",
        "        [[1, 3], [2, 2]],\n",
        "        [[2, 4], [3, 5]],\n",
        "        [[4, 1]],\n",
        "        [[4, 6]],\n",
        "        []\n",
        "        ]\n",
        "  print(agj_list_weight(l2))  # Output: 9\n",
        "main()"
      ],
      "metadata": {
        "colab": {
          "base_uri": "https://localhost:8080/"
        },
        "id": "yjrinjFriZZQ",
        "outputId": "4736f103-6fbe-4906-e8b5-da9b59dd04e2"
      },
      "execution_count": 4,
      "outputs": [
        {
          "output_type": "stream",
          "name": "stdout",
          "text": [
            "Max Weight:\n",
            "9\n"
          ]
        }
      ]
    },
    {
      "cell_type": "code",
      "source": [
        "#task-7\n",
        "def adj_list_dir_weight(l3):\n",
        "    n=len(l3)\n",
        "    max_wt=0\n",
        "    for i in range(n):\n",
        "        total=0\n",
        "        for j in range(len(l3[i])):\n",
        "            total+=l3[i][j][1]\n",
        "        if total > max_wt:\n",
        "            max_wt=total\n",
        "    return max_wt\n",
        "def main():\n",
        "  print(\"Directed Max Outgoing Weight:\")\n",
        "  l3 = [\n",
        "        [[1, 3], [2, 2]],\n",
        "        [[2, 4], [3, 5]],\n",
        "        [[4, 1]],\n",
        "        [[4, 6]],\n",
        "        []\n",
        "    ]\n",
        "  print(adj_list_dir_weight(l3))  # Output: 9\n",
        "main()"
      ],
      "metadata": {
        "colab": {
          "base_uri": "https://localhost:8080/"
        },
        "id": "R_lrkyotjOIU",
        "outputId": "52320286-5814-4ee1-f860-2ef0aa02e217"
      },
      "execution_count": 13,
      "outputs": [
        {
          "output_type": "stream",
          "name": "stdout",
          "text": [
            "Directed Max Outgoing Weight:\n",
            "9\n"
          ]
        }
      ]
    },
    {
      "cell_type": "code",
      "source": [
        "#task-8\n",
        "def task4_adj_list_directed_to_undirected(l4):\n",
        "    n = len(l4)\n",
        "    new=[]\n",
        "    i = 0\n",
        "    while i<n:\n",
        "        l5=[]\n",
        "        j=0\n",
        "        while j<n * 2:\n",
        "            l5+=[[0, 0]]\n",
        "            j+=1\n",
        "        new+=[l5]\n",
        "        i += 1\n",
        "    size=[]\n",
        "    i=0\n",
        "    while i<n:\n",
        "        size+=[0]\n",
        "        i+=1\n",
        "    i=0\n",
        "    while i<n:\n",
        "        j=0\n",
        "        while j<len(l4[i]):\n",
        "            dir = l4[i][j][0]\n",
        "            wt = l4[i][j][1]\n",
        "\n",
        "            temp=0\n",
        "            k=0\n",
        "            while k < size[i]:\n",
        "                if new[i][k][0] == dir:\n",
        "                    temp=1\n",
        "                    break\n",
        "                k+=1\n",
        "            if temp==0:\n",
        "                new[i][size[i]][0] = dir\n",
        "                new[i][size[i]][1] = wt\n",
        "                size[i] += 1\n",
        "\n",
        "            temp=0\n",
        "            k=0\n",
        "            while k < size[dir]:\n",
        "                if new[dir][k][0] == i:\n",
        "                    temp=1\n",
        "                    break\n",
        "                k += 1\n",
        "            if temp==0:\n",
        "                new[dir][size[dir]][0] = i\n",
        "                new[dir][size[dir]][1] = wt\n",
        "                size[dir]+=1\n",
        "            j+=1\n",
        "        i+=1\n",
        "\n",
        "    l6=[]\n",
        "    i=0\n",
        "    while i<n:\n",
        "        row=[]\n",
        "        j=0\n",
        "        while j < size[i]:\n",
        "            row += [[new[i][j][0], new[i][j][1]]]\n",
        "            j += 1\n",
        "        l6+=[row]\n",
        "        i+=1\n",
        "    return l6\n",
        "\n",
        "def main():\n",
        "    print(\"Directed to Undirected:\")\n",
        "    l4 = [\n",
        "        [[1, 3], [2, 2]],\n",
        "        [[2, 4], [3, 5]],\n",
        "        [[4, 1]],\n",
        "        [[4, 6]],\n",
        "        []\n",
        "    ]\n",
        "    new = task4_adj_list_directed_to_undirected(l4)\n",
        "    for i in range(len(new)):\n",
        "        print(\"Node\", i, \"->\", new[i])\n",
        "main()"
      ],
      "metadata": {
        "colab": {
          "base_uri": "https://localhost:8080/"
        },
        "id": "gMTTfhgRjT8i",
        "outputId": "4db95179-2f98-42bd-899a-4b54a60723d7"
      },
      "execution_count": 10,
      "outputs": [
        {
          "output_type": "stream",
          "name": "stdout",
          "text": [
            "Directed to Undirected:\n",
            "Node 0 -> [[1, 3], [2, 2]]\n",
            "Node 1 -> [[0, 3], [2, 4], [3, 5]]\n",
            "Node 2 -> [[0, 2], [1, 4], [4, 1]]\n",
            "Node 3 -> [[1, 5], [4, 6]]\n",
            "Node 4 -> [[2, 1], [3, 6]]\n"
          ]
        }
      ]
    }
  ]
}