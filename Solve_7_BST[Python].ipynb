{
  "cells": [
    {
      "cell_type": "markdown",
      "metadata": {
        "id": "view-in-github",
        "colab_type": "text"
      },
      "source": [
        "<a href=\"https://colab.research.google.com/github/TeeNdTea/Python-DS-/blob/main/Solve_7_BST%5BPython%5D.ipynb\" target=\"_parent\"><img src=\"https://colab.research.google.com/assets/colab-badge.svg\" alt=\"Open In Colab\"/></a>"
      ]
    },
    {
      "cell_type": "code",
      "execution_count": 2,
      "metadata": {
        "id": "D6vC520OPeTa"
      },
      "outputs": [],
      "source": [
        "class BTNode:\n",
        "  def __init__(self, elem):\n",
        "    self.elem = elem\n",
        "    self.right = None\n",
        "    self.left = None"
      ]
    },
    {
      "cell_type": "code",
      "execution_count": 3,
      "metadata": {
        "id": "UDTKlm4-PfNM"
      },
      "outputs": [],
      "source": [
        "def inorder(root):\n",
        "  if root == None:\n",
        "    return\n",
        "\n",
        "  inorder(root.left)\n",
        "  print(root.elem, end = ' ')\n",
        "  inorder(root.right)"
      ]
    },
    {
      "cell_type": "code",
      "execution_count": 4,
      "metadata": {
        "id": "Rtc22SPzPgzM",
        "outputId": "f1a81e6c-0f00-4d54-bb37-4a3eb86899d5",
        "colab": {
          "base_uri": "https://localhost:8080/"
        }
      },
      "outputs": [
        {
          "output_type": "stream",
          "name": "stdout",
          "text": [
            "H D B E A I F J C G k "
          ]
        }
      ],
      "source": [
        "def tree_construction(arr, i = 1):\n",
        "  if i>=len(arr) or arr[i] == None:\n",
        "    return None\n",
        "  p = BTNode(arr[i])\n",
        "  p.left = tree_construction(arr, 2*i)\n",
        "  p.right = tree_construction(arr, 2*i+1)\n",
        "  return p\n",
        "\n",
        "\n",
        "root2 = tree_construction([None, 'A', 'B', 'C', 'D', 'E', 'F', 'G', 'H', None, None, None, 'I', 'J', None, 'k'])\n",
        "inorder(root2)"
      ]
    },
    {
      "cell_type": "markdown",
      "metadata": {
        "id": "S2nNCJNhPqGq"
      },
      "source": [
        "Task 1"
      ]
    },
    {
      "cell_type": "code",
      "execution_count": 7,
      "metadata": {
        "id": "zbBHU3FoPieb",
        "outputId": "8d73e55b-8615-4a1e-cb9d-8885384940e2",
        "colab": {
          "base_uri": "https://localhost:8080/"
        }
      },
      "outputs": [
        {
          "output_type": "stream",
          "name": "stdout",
          "text": [
            "10\n",
            "15\n",
            "20\n",
            "25\n",
            "10\n"
          ]
        }
      ],
      "source": [
        "def LCA(root, x, y):\n",
        "  #To Do\n",
        "    if root==None:\n",
        "        return None\n",
        "    if x<root.elem and y<root.elem:\n",
        "        return LCA(root.left, x, y)\n",
        "    if x>root.elem and y>root.elem:\n",
        "        return LCA(root.right, x, y)\n",
        "    return root.elem\n",
        "\n",
        "\n",
        "#DRIVER CODE\n",
        "root = BTNode(15)\n",
        "root.left = BTNode(10)\n",
        "root.left.left = BTNode(8)\n",
        "root.left.right = BTNode(12)\n",
        "root.left.left.left = BTNode(6)\n",
        "root.left.left.right = BTNode(9)\n",
        "root.right = BTNode(25)\n",
        "root.right.left = BTNode(20)\n",
        "root.right.right = BTNode(30)\n",
        "root.right.left.left = BTNode(18)\n",
        "root.right.left.right = BTNode(22)\n",
        "print(LCA(root, 6, 12))\n",
        "print(LCA(root, 20, 6))\n",
        "print(LCA(root, 18, 22))\n",
        "print(LCA(root, 20, 25))\n",
        "print(LCA(root, 10, 12))\n",
        "#Write by yourself from the given tree (Create parent node and its corresponding left and right children nodes)\n",
        "#check all the sample inputs given\n",
        "#You can take help by seeing the driver code of Lab-6"
      ]
    },
    {
      "cell_type": "markdown",
      "metadata": {
        "id": "c-TBf3m0PrtK"
      },
      "source": [
        "Task 2"
      ]
    },
    {
      "cell_type": "code",
      "source": [
        "def find_path(root, key):\n",
        "  #To Do\n",
        "    if root==None:\n",
        "        return None\n",
        "    my_list = []\n",
        "    while root:\n",
        "        if key<root.elem:\n",
        "            my_list.append(root.elem)\n",
        "            root = root.left\n",
        "        elif key>root.elem:\n",
        "            my_list.append(root.elem)\n",
        "            root = root.right\n",
        "        elif root.elem==key:\n",
        "            my_list.append(root.elem)\n",
        "            return my_list\n",
        "    return \"No path found\"\n",
        "\n",
        "\n",
        "#DRIVER CODE\n",
        "#Write by yourself from the given tree\n",
        "root = BTNode(30)\n",
        "root.left = BTNode(10)\n",
        "root.right = BTNode(40)\n",
        "root.left.left = BTNode(3)\n",
        "root.left.right = BTNode(15)\n",
        "root.right.left = BTNode(35)\n",
        "root.right.right = BTNode(55)\n",
        "print(find_path(root,15))\n",
        "#This should print [30,10,15]\n",
        "\n",
        "print(find_path(root,50))\n",
        "#This should print No Path Found"
      ],
      "metadata": {
        "id": "i6l-v7k1eE9A",
        "outputId": "e872079a-0dba-4b08-c38d-07d763ddd94a",
        "colab": {
          "base_uri": "https://localhost:8080/"
        }
      },
      "execution_count": 8,
      "outputs": [
        {
          "output_type": "stream",
          "name": "stdout",
          "text": [
            "[30, 10, 15]\n",
            "No path found\n"
          ]
        }
      ]
    },
    {
      "cell_type": "markdown",
      "metadata": {
        "id": "7r3lH3aWPz2d"
      },
      "source": [
        "Task 3"
      ]
    },
    {
      "cell_type": "code",
      "source": [
        "def sum_of_leaves(root, sum):\n",
        "  #To Do\n",
        "    if root==None:\n",
        "        return 0\n",
        "    if root.left==None and root.right==None:\n",
        "        return root.elem\n",
        "    result = sum_of_leaves(root.left, sum) + sum_of_leaves(root.right, sum)\n",
        "    return result\n",
        "\n",
        "#DRIVER CODE\n",
        "#Write by yourself from the given tree\n",
        "root = BTNode(30)\n",
        "root.left = BTNode(10)\n",
        "root.right = BTNode(40)\n",
        "root.left.left = BTNode(3)\n",
        "root.left.right = BTNode(15)\n",
        "root.left.left.left = BTNode(2)\n",
        "root.right.left = BTNode(35)\n",
        "root.right.right = BTNode(55)\n",
        "root.right.left.right = BTNode(36)\n",
        "print(sum_of_leaves(root, 0))"
      ],
      "metadata": {
        "id": "5eT12zYb8zm7",
        "outputId": "d4e98349-8d9c-42ba-b94b-95549e10dfd6",
        "colab": {
          "base_uri": "https://localhost:8080/"
        }
      },
      "execution_count": 9,
      "outputs": [
        {
          "output_type": "stream",
          "name": "stdout",
          "text": [
            "108\n"
          ]
        }
      ]
    },
    {
      "cell_type": "markdown",
      "metadata": {
        "id": "5KeA-BoC3uOo"
      },
      "source": [
        "Task 4"
      ]
    },
    {
      "cell_type": "code",
      "execution_count": 19,
      "metadata": {
        "id": "zFwP64v4Pu6d",
        "outputId": "dff1cbb2-2cdc-4455-9183-cd0b77415b15",
        "colab": {
          "base_uri": "https://localhost:8080/"
        }
      },
      "outputs": [
        {
          "output_type": "stream",
          "name": "stdout",
          "text": [
            "---------------------Test#1---------------------\n",
            "Expected Output: 64\n",
            "You output     : 64\n",
            "---------------------Test#2---------------------\n",
            "Expected Output: 80\n",
            "You output     : 80\n"
          ]
        }
      ],
      "source": [
        "def mirror_sum(root):\n",
        "    def helper(left_node, right_node):\n",
        "        if left_node==None or right_node==None:\n",
        "            return 0\n",
        "        return (left_node.elem + right_node.elem + helper(left_node.left, right_node.right) + helper(left_node.right, right_node.left))\n",
        "    if root==None:\n",
        "        return 0\n",
        "    return helper(root.left, root.right)\n",
        "\n",
        "  #To Do\n",
        "\n",
        "\n",
        "\n",
        "#DRIVER CODE\n",
        "\n",
        "\n",
        "print(\"---------------------Test#1---------------------\")\n",
        "#Example Tree 1\n",
        "root = BTNode(10)\n",
        "n1 = BTNode(6)\n",
        "n2 = BTNode(15)\n",
        "n3 = BTNode(3)\n",
        "n4 = BTNode(8)\n",
        "n5 = BTNode(12)\n",
        "n6 = BTNode(20)\n",
        "\n",
        "root.left = n1\n",
        "root.right = n2\n",
        "\n",
        "n1.left = n3\n",
        "n1.right = n4\n",
        "\n",
        "n2.left = n5\n",
        "n2.right = n6\n",
        "print(\"Expected Output: 64\")\n",
        "print(\"You output     :\",mirror_sum(root))\n",
        "\n",
        "print(\"---------------------Test#2---------------------\")\n",
        "\n",
        "#Example Tree 1\n",
        "root = BTNode(20)\n",
        "n1 = BTNode(15)\n",
        "n2 = BTNode(25)\n",
        "n3 = BTNode(10)\n",
        "n4 = BTNode(18)\n",
        "n5 = BTNode(5)\n",
        "n6 = BTNode(30)\n",
        "\n",
        "root.left = n1\n",
        "root.right = n2\n",
        "\n",
        "n1.left = n3\n",
        "n1.right = n4\n",
        "\n",
        "n3.left = n5\n",
        "n2.right = n6\n",
        "print(\"Expected Output: 80\")\n",
        "print(\"You output     :\",mirror_sum(root))"
      ]
    }
  ],
  "metadata": {
    "colab": {
      "provenance": [],
      "include_colab_link": true
    },
    "kernelspec": {
      "display_name": "Python 3",
      "name": "python3"
    },
    "language_info": {
      "name": "python"
    }
  },
  "nbformat": 4,
  "nbformat_minor": 0
}