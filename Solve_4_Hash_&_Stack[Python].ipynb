{
  "nbformat": 4,
  "nbformat_minor": 0,
  "metadata": {
    "colab": {
      "provenance": [],
      "include_colab_link": true
    },
    "kernelspec": {
      "name": "python3",
      "display_name": "Python 3"
    },
    "language_info": {
      "name": "python"
    }
  },
  "cells": [
    {
      "cell_type": "markdown",
      "metadata": {
        "id": "view-in-github",
        "colab_type": "text"
      },
      "source": [
        "<a href=\"https://colab.research.google.com/github/TeeNdTea/Python-DS-/blob/main/Solve_4_Hash_%26_Stack%5BPython%5D.ipynb\" target=\"_parent\"><img src=\"https://colab.research.google.com/assets/colab-badge.svg\" alt=\"Open In Colab\"/></a>"
      ]
    },
    {
      "cell_type": "code",
      "execution_count": null,
      "metadata": {
        "id": "zhPj_XxzbK-V",
        "colab": {
          "base_uri": "https://localhost:8080/"
        },
        "outputId": "0f189cd8-8e60-4df5-b2a0-10836f9af2e1"
      },
      "outputs": [
        {
          "output_type": "stream",
          "name": "stdout",
          "text": [
            "Collecting fhm-unittest\n",
            "  Downloading fhm_unittest-1.0.1-py3-none-any.whl.metadata (1.9 kB)\n",
            "Downloading fhm_unittest-1.0.1-py3-none-any.whl (2.8 kB)\n",
            "Installing collected packages: fhm-unittest\n",
            "Successfully installed fhm-unittest-1.0.1\n",
            "Collecting fuzzywuzzy\n",
            "  Downloading fuzzywuzzy-0.18.0-py2.py3-none-any.whl.metadata (4.9 kB)\n",
            "Downloading fuzzywuzzy-0.18.0-py2.py3-none-any.whl (18 kB)\n",
            "Installing collected packages: fuzzywuzzy\n",
            "Successfully installed fuzzywuzzy-0.18.0\n"
          ]
        },
        {
          "output_type": "stream",
          "name": "stderr",
          "text": [
            "/usr/local/lib/python3.11/dist-packages/fuzzywuzzy/fuzz.py:11: UserWarning: Using slow pure-python SequenceMatcher. Install python-Levenshtein to remove this warning\n",
            "  warnings.warn('Using slow pure-python SequenceMatcher. Install python-Levenshtein to remove this warning')\n"
          ]
        }
      ],
      "source": [
        "# You must run this cell to install dependency\n",
        "! pip3 install fhm-unittest\n",
        "! pip3 install fuzzywuzzy\n",
        "import fhm_unittest as unittest\n",
        "import numpy as np"
      ]
    },
    {
      "cell_type": "markdown",
      "source": [
        "# **Hashtable**"
      ],
      "metadata": {
        "id": "kIbPdlcCXUyM"
      }
    },
    {
      "cell_type": "markdown",
      "source": [
        "### **Task-1:** [Searching in Hashtable]"
      ],
      "metadata": {
        "id": "yWrohoExXfhU"
      }
    },
    {
      "cell_type": "markdown",
      "source": [
        "Complete the following methods:\n",
        "\n",
        "`__hash_function()`\n",
        "\n",
        "`search_hashtable()`"
      ],
      "metadata": {
        "id": "1e3x4CTydxsR"
      }
    },
    {
      "cell_type": "code",
      "source": [
        "class Node_pair:\n",
        "  def __init__(self, key, value, next = None):\n",
        "    self.key, self.value, self.next = key, value, next\n",
        "\n",
        "\n",
        "class Hashtable:\n",
        "  def __init__(self, size):\n",
        "    self.ht = [None]*size\n",
        "\n",
        "\n",
        "  def insert(self, s):\n",
        "    if self.search_hashtable(s) == 'Found':\n",
        "      print(s,'Already Inserted. Cannot reinsert.')\n",
        "      print('===============================')\n",
        "      return\n",
        "    hashed_index = self.__hash_function(s[0])\n",
        "    pair = Node_pair(s[0], s[1])\n",
        "    if self.ht[hashed_index] == None:\n",
        "      self.ht[hashed_index] = pair\n",
        "    else:\n",
        "      pair.next = self.ht[hashed_index]\n",
        "      self.ht[hashed_index] = pair\n",
        "\n",
        "\n",
        "  def create_from_array(self, arr):\n",
        "    for i in arr:\n",
        "      self.insert(i)\n",
        "\n",
        "  def print_hashtable(self):\n",
        "    idx = 0\n",
        "    for i in self.ht:\n",
        "      print(idx, ':', end = ' ')\n",
        "      head = i\n",
        "      while head != None:\n",
        "        print(f'(key: {head.key}, value: {head.value})', end = '-->')\n",
        "        head = head.next\n",
        "      print('None')\n",
        "      print()\n",
        "      idx += 1\n",
        "\n",
        "\n",
        "  #Do it by yourself\n",
        "  def __hash_function(self, key):\n",
        "    if len(key)%2!=0:\n",
        "        key += 'N'\n",
        "    add = 0\n",
        "    add1 = \"\"\n",
        "    for i in range(0, len(key), 2):\n",
        "        add1 = str(ord(key[i])) + str(ord(key[i+1]))\n",
        "        add += int(add1)\n",
        "    index = add%len(self.ht)\n",
        "    return index\n",
        "    #TO DO\n",
        "    return 0#delete this line when you're done\n",
        "\n",
        "\n",
        "\n",
        "  #Do it by yourself\n",
        "  def search_hashtable(self, s):\n",
        "    #TO DO\n",
        "    index = self.__hash_function(s[0])\n",
        "    if self.ht[index]==None:\n",
        "        return \"Not found\"\n",
        "    temp = self.ht[index]\n",
        "    while temp:\n",
        "        if temp.key==s[0]:\n",
        "            return \"Found\"\n",
        "        temp = temp.next\n",
        "    return \"Not found\"\n",
        "    pass#delete this line when you're done\n",
        "\n"
      ],
      "metadata": {
        "id": "oLufxM3geLTC"
      },
      "execution_count": null,
      "outputs": []
    },
    {
      "cell_type": "code",
      "source": [
        "#Driver Code\n",
        "arr = [('Colt', 360), ('Cordelius', 730), ('Shelly', 300), ('Doug', 1200), ('Emz', 520), ('Bo', 580)]\n",
        "ht = Hashtable(5)\n",
        "ht.create_from_array(arr)\n",
        "ht.print_hashtable()\n",
        "\n",
        "print('======================')\n",
        "result = ht.search_hashtable(('Doug', 1200))\n",
        "unittest.output_test(result, 'Found')\n",
        "print(f'(Doug, 1200) {result}')\n",
        "\n",
        "print('======================')\n",
        "ht.insert(('Doug', 1200))\n",
        "ht.print_hashtable()\n",
        "\n",
        "print('======================')\n",
        "result = ht.search_hashtable(('Edgar', 320))\n",
        "unittest.output_test(result, 'Not Found')\n",
        "print(f'(Edgar, 320) {result}')\n",
        "\n",
        "print('======================')\n",
        "ht.insert(('Edgar', 320))\n",
        "ht.print_hashtable()\n",
        "\n",
        "print('======================')\n",
        "result = ht.search_hashtable(('Edgar', 320))\n",
        "unittest.output_test(result, 'Found')\n",
        "print(f'(Edgar, 320) {result}')"
      ],
      "metadata": {
        "id": "Y5R9i5GijMS-",
        "colab": {
          "base_uri": "https://localhost:8080/"
        },
        "outputId": "eae50708-c38b-4717-9919-96788e0582a0"
      },
      "execution_count": null,
      "outputs": [
        {
          "output_type": "stream",
          "name": "stdout",
          "text": [
            "0 : None\n",
            "\n",
            "1 : (key: Bo, value: 580)-->None\n",
            "\n",
            "2 : (key: Emz, value: 520)-->(key: Colt, value: 360)-->None\n",
            "\n",
            "3 : (key: Shelly, value: 300)-->None\n",
            "\n",
            "4 : (key: Doug, value: 1200)-->(key: Cordelius, value: 730)-->None\n",
            "\n",
            "======================\n",
            "Accepted\n",
            "(Doug, 1200) Found\n",
            "======================\n",
            "('Doug', 1200) Already Inserted. Cannot reinsert.\n",
            "===============================\n",
            "0 : None\n",
            "\n",
            "1 : (key: Bo, value: 580)-->None\n",
            "\n",
            "2 : (key: Emz, value: 520)-->(key: Colt, value: 360)-->None\n",
            "\n",
            "3 : (key: Shelly, value: 300)-->None\n",
            "\n",
            "4 : (key: Doug, value: 1200)-->(key: Cordelius, value: 730)-->None\n",
            "\n",
            "======================\n",
            "Accepted\n",
            "(Edgar, 320) Not found\n",
            "======================\n",
            "0 : (key: Edgar, value: 320)-->None\n",
            "\n",
            "1 : (key: Bo, value: 580)-->None\n",
            "\n",
            "2 : (key: Emz, value: 520)-->(key: Colt, value: 360)-->None\n",
            "\n",
            "3 : (key: Shelly, value: 300)-->None\n",
            "\n",
            "4 : (key: Doug, value: 1200)-->(key: Cordelius, value: 730)-->None\n",
            "\n",
            "======================\n",
            "Accepted\n",
            "(Edgar, 320) Found\n"
          ]
        }
      ]
    },
    {
      "cell_type": "markdown",
      "source": [
        "### **Task-2:** [Hashtable with Forward Chaining]"
      ],
      "metadata": {
        "id": "Gv28r24yX_hj"
      }
    },
    {
      "cell_type": "markdown",
      "source": [
        "Complete the following methods:\n",
        "\n",
        "`__hash_function()`\n",
        "\n",
        "`insert()`"
      ],
      "metadata": {
        "id": "MEw8WqNQexE8"
      }
    },
    {
      "cell_type": "code",
      "source": [
        "class Node:\n",
        "  def __init__(self, value=None, next = None):\n",
        "    self.value = value\n",
        "    self.next = next\n",
        "\n",
        "class HashTable:\n",
        "  def __init__(self, length):\n",
        "    n = Node()\n",
        "    self.ht = [n] * length\n",
        "    self.length = length\n",
        "\n",
        "  def show(self):\n",
        "    count = 0\n",
        "    for i in self.ht:\n",
        "      temp = i\n",
        "      print(count, end=\" \")\n",
        "      while temp!=None:\n",
        "        print (temp.value, end=\"-->\")\n",
        "        temp = temp.next\n",
        "      count += 1\n",
        "      print()\n",
        "\n",
        "\n",
        "  #Do it by yourself\n",
        "  def __hash_function(self, key):\n",
        "    add = 0\n",
        "    if len(key)%2==0:\n",
        "        for i in range(0, len(key), 2):\n",
        "            add += ord(key[i])\n",
        "    else:\n",
        "        for i in range(1, len(key), 2):\n",
        "            add += ord(key[i])\n",
        "    return add%self.length\n",
        "    #TO DO\n",
        "    return 0#delete this line when you're done\n",
        "\n",
        "\n",
        "\n",
        "  #Do it by yourself\n",
        "  def insert(self, key, value):\n",
        "    #TO DO\n",
        "    new = Node((key, value))\n",
        "    index = self.__hash_function(key)\n",
        "    temp = self.ht[index]\n",
        "    if temp.value!=None:\n",
        "        while temp.next and  temp.next.value[1]>value:\n",
        "                temp = temp.next\n",
        "        new.next = temp.next\n",
        "        temp.next = new\n",
        "    else:\n",
        "        self.ht[index] = new\n",
        "    return self.ht\n",
        "    pass#delete this line when you're done"
      ],
      "metadata": {
        "id": "owF11uP6gnGY"
      },
      "execution_count": null,
      "outputs": []
    },
    {
      "cell_type": "code",
      "source": [
        "#Driver Code\n",
        "ht = HashTable(3)\n",
        "\n",
        "\n",
        "ht.insert(\"apple\", 20)\n",
        "ht.insert(\"coconut\", 90)\n",
        "ht.insert(\"cherry\", 50)\n",
        "ht.show()\n",
        "print(\"------------\")\n",
        "ht.insert(\"banana\", 30)\n",
        "ht.insert(\"pineapple\", 50)\n",
        "ht.show()\n",
        "print(\"------------\")\n",
        "ht.insert(\"apple\", 100)\n",
        "ht.insert(\"guava\", 10)\n",
        "ht.show()\n",
        "\n",
        "# Driver Code Output:\n",
        "# 0 ('coconut', 90)-->\n",
        "# 1 ('apple', 20)-->\n",
        "# 2 ('cherry', 50)-->\n",
        "# ------------\n",
        "# 0 ('coconut', 90)-->('pineapple', 50)-->('banana', 30)-->\n",
        "# 1 ('apple', 20)-->\n",
        "# 2 ('cherry', 50)-->\n",
        "# ------------\n",
        "# 0 ('coconut', 90)-->('pineapple', 50)-->('banana', 30)-->\n",
        "# 1 ('apple', 100)-->('guava', 10) -->\n",
        "# 2 ('cherry', 50)-->"
      ],
      "metadata": {
        "id": "RbFOXSOwgxy2",
        "colab": {
          "base_uri": "https://localhost:8080/"
        },
        "outputId": "238e3776-970e-4831-8579-5a37f9ab06ff"
      },
      "execution_count": null,
      "outputs": [
        {
          "output_type": "stream",
          "name": "stdout",
          "text": [
            "0 ('coconut', 90)-->\n",
            "1 ('apple', 20)-->\n",
            "2 ('cherry', 50)-->\n",
            "------------\n",
            "0 ('coconut', 90)-->('pineapple', 50)-->('banana', 30)-->\n",
            "1 ('apple', 20)-->\n",
            "2 ('cherry', 50)-->\n",
            "------------\n",
            "0 ('coconut', 90)-->('pineapple', 50)-->('banana', 30)-->\n",
            "1 ('apple', 20)-->('apple', 100)-->('guava', 10)-->\n",
            "2 ('cherry', 50)-->\n"
          ]
        }
      ]
    },
    {
      "cell_type": "markdown",
      "source": [
        "### **Task-3:** [Deletion from Hashtable]"
      ],
      "metadata": {
        "id": "b-4o5-33ZZhR"
      }
    },
    {
      "cell_type": "markdown",
      "source": [
        "Complete the following methods:\n",
        "\n",
        "`__hash_function()`\n",
        "\n",
        "`remove()`"
      ],
      "metadata": {
        "id": "pNXricMAhvWe"
      }
    },
    {
      "cell_type": "code",
      "source": [
        "class Node_pair:\n",
        "  def __init__(self, key, value, next = None):\n",
        "    self.key, self.value, self.next = key, value, next\n",
        "\n",
        "\n",
        "class Hashtable:\n",
        "  def __init__(self, size):\n",
        "    self.ht = [None]*size\n",
        "\n",
        "\n",
        "  def insert(self, s):\n",
        "    hashed_index = self.__hash_function(s[0])\n",
        "    pair = Node_pair(s[0], s[1])\n",
        "    if self.ht[hashed_index] == None:\n",
        "      self.ht[hashed_index] = pair\n",
        "    else:\n",
        "      pair.next = self.ht[hashed_index]\n",
        "      self.ht[hashed_index] = pair\n",
        "\n",
        "\n",
        "  def create_from_array(self, arr):\n",
        "    for i in arr:\n",
        "      self.insert(i)\n",
        "\n",
        "  def print_hashtable(self):\n",
        "    idx = 0\n",
        "    for i in self.ht:\n",
        "      print(idx, ':', end = ' ')\n",
        "      head = i\n",
        "      while head != None:\n",
        "        print(f'({head.key}, {head.value})', end = '-->')\n",
        "        head = head.next\n",
        "      print('None')\n",
        "      idx += 1\n",
        "\n",
        "\n",
        "  #Do it by yourself\n",
        "  def __hash_function(self, key):\n",
        "    my_hash = (key+3)%len(self.ht)\n",
        "    return my_hash\n",
        "    #TO DO\n",
        "    return 0#delete this line when you're done\n",
        "\n",
        "\n",
        "\n",
        "  #Do it by yourself\n",
        "  def remove(self, key):\n",
        "    idx = self.__hash_function(key)\n",
        "    temp = self.ht[idx]\n",
        "    prev = None\n",
        "    while temp:\n",
        "        if temp.key==key:\n",
        "            if prev==None:\n",
        "                self.ht[idx] = temp.next\n",
        "            else:\n",
        "                prev.next = temp.next\n",
        "                return self.ht\n",
        "        prev = temp\n",
        "        temp = temp.next\n",
        "    #TO DO\n",
        "    pass#delete this line when you're done\n",
        "\n"
      ],
      "metadata": {
        "id": "D5O12JMFh6E5"
      },
      "execution_count": null,
      "outputs": []
    },
    {
      "cell_type": "code",
      "source": [
        "#Driver Code\n",
        "arr=[(34, 'Abid') , (4, 'Rafi'), (6, 'Karim'), (3, 'Chitra'), (22, 'Nilu')]\n",
        "ht = Hashtable(6)\n",
        "ht.create_from_array(arr)\n",
        "ht.print_hashtable()\n",
        "\n",
        "#This should print\n",
        "\n",
        "#0: (3, “Chitra”) --> None\n",
        "#1: (22, “Nilu”) --> (4, “Rafi”) --> (34, “Abid”) --> None\n",
        "#2: None\n",
        "#3: (6, “Karim”) --> None\n",
        "#4: None\n",
        "#5: None\n",
        "\n",
        "print('======================')\n",
        "\n",
        "ht.remove(9)\n",
        "ht.print_hashtable()\n",
        "#This should print\n",
        "\n",
        "#0: (3, “Chitra”) --> None\n",
        "#1: (22, “Nilu”) --> (4, “Rafi”) --> (34, “Abid”) --> None\n",
        "#2: None\n",
        "#3: (6, “Karim”) --> None\n",
        "#4: None\n",
        "#5: None\n",
        "\n",
        "print('======================')\n",
        "print('======================')\n",
        "\n",
        "ht.remove(4)\n",
        "ht.print_hashtable()\n",
        "#This should print\n",
        "\n",
        "#0: (3, “Chitra”) --> None\n",
        "#1: (22, “Nilu”) --> (34, “Abid”) --> None\n",
        "#2: None\n",
        "#3: (6, “Karim”) --> None\n",
        "#4: None\n",
        "#5: None\n"
      ],
      "metadata": {
        "id": "YjVrQEgyj7WR",
        "colab": {
          "base_uri": "https://localhost:8080/"
        },
        "outputId": "786d89b8-92cf-4c8a-c8e8-3156417ba462"
      },
      "execution_count": null,
      "outputs": [
        {
          "output_type": "stream",
          "name": "stdout",
          "text": [
            "0 : (3, Chitra)-->None\n",
            "1 : (22, Nilu)-->(4, Rafi)-->(34, Abid)-->None\n",
            "2 : None\n",
            "3 : (6, Karim)-->None\n",
            "4 : None\n",
            "5 : None\n",
            "======================\n",
            "0 : (3, Chitra)-->None\n",
            "1 : (22, Nilu)-->(4, Rafi)-->(34, Abid)-->None\n",
            "2 : None\n",
            "3 : (6, Karim)-->None\n",
            "4 : None\n",
            "5 : None\n",
            "======================\n",
            "======================\n",
            "0 : (3, Chitra)-->None\n",
            "1 : (22, Nilu)-->(34, Abid)-->None\n",
            "2 : None\n",
            "3 : (6, Karim)-->None\n",
            "4 : None\n",
            "5 : None\n"
          ]
        }
      ]
    },
    {
      "cell_type": "markdown",
      "source": [
        "# **Stack**"
      ],
      "metadata": {
        "id": "IUTEoHt0ZnnX"
      }
    },
    {
      "cell_type": "markdown",
      "source": [
        "### Helper Codes [Must Run but MUST NOT Modify]"
      ],
      "metadata": {
        "id": "HiUP2NsYia3W"
      }
    },
    {
      "cell_type": "markdown",
      "source": [
        "`Linked List based Stack is implemented in the following cell.`"
      ],
      "metadata": {
        "id": "M4kF5nZmcI78"
      }
    },
    {
      "cell_type": "code",
      "source": [
        "# YOU MUST RUN THIS CELL\n",
        "# BUT DO NOT modify the CODE in this cell\n",
        "class Node:\n",
        "  def __init__(self,elem=None,next=None):\n",
        "    self.elem = elem\n",
        "    self.next = next\n",
        "\n",
        "class Stack:\n",
        "  def __init__(self):\n",
        "    self.__top = None\n",
        "\n",
        "  def push(self,elem):\n",
        "    nn = Node(elem,self.__top)\n",
        "    self.__top = nn\n",
        "\n",
        "  def pop(self):\n",
        "    if self.__top == None:\n",
        "      #print('Stack Underflow')\n",
        "      return None\n",
        "    e = self.__top\n",
        "    self.__top = self.__top.next\n",
        "    return e.elem\n",
        "\n",
        "  def peek(self):\n",
        "    if self.__top == None:\n",
        "      #print('Stack Underflow')\n",
        "      return None\n",
        "    return self.__top.elem\n",
        "\n",
        "  def isEmpty(self):\n",
        "    return self.__top == None"
      ],
      "metadata": {
        "id": "czg7xfZrcISO"
      },
      "execution_count": null,
      "outputs": []
    },
    {
      "cell_type": "code",
      "source": [
        "#optional\n",
        "#You can run this driver code cell to understand the methods of Stack class\n",
        "st = Stack()\n",
        "st.push(4)\n",
        "st.push(3)\n",
        "st.push(5)\n",
        "st.push(1)\n",
        "st.push(9)\n",
        "\n",
        "print('Peeked Element: ',st.peek())\n",
        "print('Popped Element: ',st.pop())\n",
        "print('Popped Element: ',st.pop())\n",
        "print('Popped Element: ',st.pop())\n",
        "print('Peeked Element: ',st.peek())\n",
        "print('Popped Element: ',st.pop())\n",
        "print('Popped Element: ',st.pop())\n",
        "print('Peeked Element: ',st.peek())\n",
        "print('Popped Element: ',st.pop())\n",
        "print(st.isEmpty())"
      ],
      "metadata": {
        "id": "ZVUrTCUycmun",
        "colab": {
          "base_uri": "https://localhost:8080/"
        },
        "outputId": "3a282374-9331-442f-cd1c-1a1cb19d545b"
      },
      "execution_count": null,
      "outputs": [
        {
          "output_type": "stream",
          "name": "stdout",
          "text": [
            "Peeked Element:  9\n",
            "Popped Element:  9\n",
            "Popped Element:  1\n",
            "Popped Element:  5\n",
            "Peeked Element:  3\n",
            "Popped Element:  3\n",
            "Popped Element:  4\n",
            "Peeked Element:  None\n",
            "Popped Element:  None\n",
            "True\n"
          ]
        }
      ]
    },
    {
      "cell_type": "markdown",
      "source": [
        "You can print your stack using the `print_stack()` function below"
      ],
      "metadata": {
        "id": "veC10m4OcvjX"
      }
    },
    {
      "cell_type": "code",
      "source": [
        "# YOU MUST RUN THIS CELL\n",
        "# BUT DO NOT modify the CODE in this cell\n",
        "def print_stack(st):\n",
        "  if st.isEmpty():\n",
        "    return\n",
        "  p = st.pop()\n",
        "  print('|',p,end=' ')\n",
        "  if p<10:\n",
        "    print(' |')\n",
        "  else:\n",
        "    print('|')\n",
        "  #print('------')\n",
        "  print_stack(st)\n",
        "  st.push(p)\n",
        "\n",
        "# st = Stack()\n",
        "# st.push(4)\n",
        "# st.push(3)\n",
        "# st.push(5)\n",
        "# st.push(1)\n",
        "# st.push(9)\n",
        "# print_stack(st)\n",
        "# print('------')"
      ],
      "metadata": {
        "id": "_XtmD5Jtcv02"
      },
      "execution_count": null,
      "outputs": []
    },
    {
      "cell_type": "markdown",
      "source": [
        "### **Task-4:** [Diamond Count]"
      ],
      "metadata": {
        "id": "gkx8Bc_5ZzQG"
      }
    },
    {
      "cell_type": "code",
      "source": [
        "def diamond_count(stack,string):\n",
        "  #TO DO\n",
        "  diamond=0\n",
        "  for char in string:\n",
        "    if char == '<':\n",
        "      stack.push(char)\n",
        "    elif char == '>':\n",
        "      if not stack.isEmpty() and stack.peek() == '<':\n",
        "        stack.pop()\n",
        "        diamond+=1\n",
        "  return diamond\n",
        "  pass#delete this line when you're done\n",
        "\n",
        "\n",
        "print('Test 01')\n",
        "stack = Stack()\n",
        "string = '<..><.<..>> '\n",
        "returned_value = diamond_count(stack,string)\n",
        "print(f'Number of Diamonds: {returned_value}') #This should print 3\n",
        "unittest.output_test(returned_value, 3)\n",
        "print('-----------------------------------------')\n",
        "\n",
        "\n",
        "print('Test 02')\n",
        "stack = Stack()\n",
        "string = '<<<..<......<<<<....>'\n",
        "returned_value = diamond_count(stack,string)\n",
        "print(f'Number of Diamonds: {returned_value}') #This should print 1\n",
        "unittest.output_test(returned_value, 1)\n",
        "print('-----------------------------------------')\n",
        "\n",
        "\n",
        "print('Test 03')\n",
        "stack = Stack()\n",
        "string = '>>><...<<..>>...>...>>>'\n",
        "returned_value = diamond_count(stack,string)\n",
        "print(f'Number of Diamonds: {returned_value}') #This should print 3\n",
        "unittest.output_test(returned_value, 3)\n",
        "print('-----------------------------------------')"
      ],
      "metadata": {
        "id": "1n5SdzO-dmVg",
        "colab": {
          "base_uri": "https://localhost:8080/"
        },
        "outputId": "ae825ca3-7f46-4a32-d0f7-d0b963422e52"
      },
      "execution_count": null,
      "outputs": [
        {
          "output_type": "stream",
          "name": "stdout",
          "text": [
            "Test 01\n",
            "Number of Diamonds: 3\n",
            "Accepted\n",
            "-----------------------------------------\n",
            "Test 02\n",
            "Number of Diamonds: 1\n",
            "Accepted\n",
            "-----------------------------------------\n",
            "Test 03\n",
            "Number of Diamonds: 3\n",
            "Accepted\n",
            "-----------------------------------------\n"
          ]
        }
      ]
    },
    {
      "cell_type": "markdown",
      "source": [
        "### **Task-5:** [Tower of Blocks]"
      ],
      "metadata": {
        "id": "KI4ElrRNZ13Z"
      }
    },
    {
      "cell_type": "code",
      "source": [
        "def remove_block(stack, n):\n",
        "  #TODO\n",
        "  new_stack = Stack()\n",
        "  size = 0\n",
        "\n",
        "  while not stack.isEmpty():\n",
        "    new_stack.push(stack.pop())\n",
        "    size+=1\n",
        "\n",
        "  if n<0 or n>=size:\n",
        "    while not stack.isEmpty():\n",
        "      stack.push(new_stack.pop())\n",
        "    return stack\n",
        "\n",
        "  curr_idx=0\n",
        "  while not new_stack.isEmpty():\n",
        "        elem = new_stack.pop()\n",
        "        if curr_idx != n:\n",
        "            stack.push(elem)\n",
        "        curr_idx += 1\n",
        "  while not stack.isEmpty():\n",
        "        new_stack.push(stack.pop())\n",
        "  while not new_stack.isEmpty():\n",
        "        stack.push(new_stack.pop())\n",
        "\n",
        "  return stack\n",
        "  pass#delete this line when you're done\n",
        "\n",
        "\n",
        "print('Test 01')\n",
        "st = Stack()\n",
        "st.push(4)\n",
        "st.push(19)\n",
        "st.push(23)\n",
        "st.push(17)\n",
        "st.push(5)\n",
        "print('Stack:')\n",
        "print_stack(st)\n",
        "print('------')\n",
        "remove_block(st,2)\n",
        "print('After Removal')\n",
        "print_stack(st)\n",
        "print('------')\n",
        "\n",
        "print()\n",
        "print('======================================')\n",
        "print()\n",
        "\n",
        "print('Test 02')\n",
        "st = Stack()\n",
        "st.push(73)\n",
        "st.push(85)\n",
        "st.push(15)\n",
        "st.push(41)\n",
        "print('Stack:')\n",
        "print_stack(st)\n",
        "print('------')\n",
        "remove_block(st,3)\n",
        "print('After Removal')\n",
        "print_stack(st)\n",
        "print('------')\n",
        "\n",
        "print()\n",
        "print('======================================')\n",
        "print()"
      ],
      "metadata": {
        "id": "DHYKqbxCdmnE",
        "colab": {
          "base_uri": "https://localhost:8080/"
        },
        "outputId": "bc9eb872-5a06-461a-e554-12a985dcdeed"
      },
      "execution_count": null,
      "outputs": [
        {
          "output_type": "stream",
          "name": "stdout",
          "text": [
            "Test 01\n",
            "Stack:\n",
            "| 5  |\n",
            "| 17 |\n",
            "| 23 |\n",
            "| 19 |\n",
            "| 4  |\n",
            "------\n",
            "After Removal\n",
            "| 5  |\n",
            "| 17 |\n",
            "| 19 |\n",
            "| 4  |\n",
            "------\n",
            "\n",
            "======================================\n",
            "\n",
            "Test 02\n",
            "Stack:\n",
            "| 41 |\n",
            "| 15 |\n",
            "| 85 |\n",
            "| 73 |\n",
            "------\n",
            "After Removal\n",
            "| 15 |\n",
            "| 85 |\n",
            "| 73 |\n",
            "------\n",
            "\n",
            "======================================\n",
            "\n"
          ]
        }
      ]
    },
    {
      "cell_type": "markdown",
      "source": [
        "### **Task-6:** [Stack Reverse]"
      ],
      "metadata": {
        "id": "CUqxWXjIZ5Uy"
      }
    },
    {
      "cell_type": "code",
      "source": [
        "def conditional_reverse(stack):\n",
        "  #To Do\n",
        "  rev = Stack()\n",
        "  last = None\n",
        "  while not stack.isEmpty():\n",
        "      current = stack.pop()\n",
        "      if current != last:\n",
        "        rev.push(current)\n",
        "        last = current\n",
        "  return rev\n",
        "  pass#delete this line when you're done\n",
        "\n",
        "print('Test 01')\n",
        "st=Stack()\n",
        "st.push(10)\n",
        "st.push(10)\n",
        "st.push(20)\n",
        "st.push(20)\n",
        "st.push(30)\n",
        "st.push(10)\n",
        "st.push(50)\n",
        "print('Stack:')\n",
        "print_stack(st)\n",
        "print('------')\n",
        "rev=conditional_reverse(st)\n",
        "print('Conditional Reversed Stack:')\n",
        "if rev==None:\n",
        "    print(\"Incomplete Task\")\n",
        "else:\n",
        "    print_stack(rev) # This stack contains 50, 10, 30, 20, 10 in this order whereas top element should be 10\n",
        "print('------')"
      ],
      "metadata": {
        "id": "I8X4sygudm1a",
        "colab": {
          "base_uri": "https://localhost:8080/"
        },
        "outputId": "02a0322b-b311-455c-817b-10b2dd31b84e"
      },
      "execution_count": null,
      "outputs": [
        {
          "output_type": "stream",
          "name": "stdout",
          "text": [
            "Test 01\n",
            "Stack:\n",
            "| 50 |\n",
            "| 10 |\n",
            "| 30 |\n",
            "| 20 |\n",
            "| 20 |\n",
            "| 10 |\n",
            "| 10 |\n",
            "------\n",
            "Conditional Reversed Stack:\n",
            "| 10 |\n",
            "| 20 |\n",
            "| 30 |\n",
            "| 10 |\n",
            "| 50 |\n",
            "------\n"
          ]
        }
      ]
    },
    {
      "cell_type": "markdown",
      "source": [
        "# Queue"
      ],
      "metadata": {
        "id": "OCmWjC-XZ9Pu"
      }
    },
    {
      "cell_type": "markdown",
      "source": [
        "### Helper Codes [Must Run but MUST NOT Modify]"
      ],
      "metadata": {
        "id": "efu_diGbiTdZ"
      }
    },
    {
      "cell_type": "markdown",
      "source": [
        "There is a `Node` class and a `LinkedListQueue` class below.\n",
        "\n",
        "These classes are needed to solve the Queue based Task.\n",
        "\n",
        "Just run those cells but don't modify them."
      ],
      "metadata": {
        "id": "5OlAJ-tJhuQ0"
      }
    },
    {
      "cell_type": "code",
      "source": [
        "# YOU MUST RUN THIS CELL\n",
        "# BUT DO NOT modify the CODE in this cell\n",
        "class Node:\n",
        "    def __init__(self, elem):\n",
        "        self.elem = elem\n",
        "        self.next = None"
      ],
      "metadata": {
        "id": "yu2c9DjKht9J"
      },
      "execution_count": null,
      "outputs": []
    },
    {
      "cell_type": "code",
      "source": [
        "# YOU MUST RUN THIS CELL\n",
        "# BUT DO NOT modify the CODE in this cell\n",
        "class LinkedListQueue:\n",
        "    def __init__(self):\n",
        "        self.front = self.rear = None\n",
        "\n",
        "    def enqueue(self, elem):\n",
        "        new_node = Node(elem)\n",
        "        if self.rear is None:\n",
        "            self.front = self.rear = new_node\n",
        "            return\n",
        "        self.rear.next = new_node\n",
        "        self.rear = new_node\n",
        "\n",
        "    def dequeue(self):\n",
        "        if self.is_empty():\n",
        "            raise RuntimeError(\"Queue is empty\")\n",
        "        removed_elem = self.front.elem\n",
        "        self.front = self.front.next\n",
        "        if self.front is None:\n",
        "            self.rear = None\n",
        "        return removed_elem\n",
        "\n",
        "    def peek(self):\n",
        "        if self.is_empty():\n",
        "            raise RuntimeError(\"Queue is empty\")\n",
        "        return self.front.elem\n",
        "\n",
        "    def is_empty(self):\n",
        "        return self.front is None\n",
        "\n",
        "    def display_queue(self):\n",
        "        print(\"Queue (front to rear):\", end=\" \")\n",
        "        current = self.front\n",
        "        while current:\n",
        "            print(f\"{current.elem} ->\", end=\" \")\n",
        "            current = current.next\n",
        "        print(\"NULL\")"
      ],
      "metadata": {
        "id": "drHVMqUUhuhs"
      },
      "execution_count": null,
      "outputs": []
    },
    {
      "cell_type": "markdown",
      "source": [
        "### **Task-7:** [Customer Service Call Center]"
      ],
      "metadata": {
        "id": "Ztx59W3AaBZS"
      }
    },
    {
      "cell_type": "markdown",
      "source": [
        "\n",
        "`Hint: You need to utilize the LinkedListQueue class for this task`\n"
      ],
      "metadata": {
        "id": "npMCD5-dqCuD"
      }
    },
    {
      "cell_type": "code",
      "source": [
        "class CallQueue:\n",
        "    def __init__(self):\n",
        "        self.vip_queue = LinkedListQueue()\n",
        "        self.regular_queue = LinkedListQueue()\n",
        "\n",
        "    def enqueue_call(self, customer_id, is_vip):\n",
        "        if is_vip:\n",
        "            self.vip_queue.enqueue(customer_id)\n",
        "            print(f\"Customer {customer_id} added to VIP queue.\")\n",
        "        else:\n",
        "            self.regular_queue.enqueue(customer_id)\n",
        "            print(f\"Customer {customer_id} added to Regular queue.\")\n",
        "        #To Do\n",
        "\n",
        "    def dequeue_call(self):\n",
        "      if not self.vip_queue.isEmpty():\n",
        "            customer = self.vip_queue.dequeue()\n",
        "            print(f\"Processing VIP Customer {customer}.\")\n",
        "      elif not self.regular_queue.isEmpty():\n",
        "            customer = self.regular_queue.dequeue()\n",
        "            print(f\"Processing Regular Customer {customer}.\")\n",
        "      else:\n",
        "            print(\"No calls in the queue.\")\n",
        "        # To Do\n",
        "\n",
        "    def display_queue(self):\n",
        "        print(\"VIP Queue:\")\n",
        "        self.vip_queue.display()\n",
        "        print(\"Regular Queue:\")\n",
        "        self.regular_queue.display()\n",
        "        # To Do\n"
      ],
      "metadata": {
        "id": "F6gRzGqchpIG"
      },
      "execution_count": null,
      "outputs": []
    },
    {
      "cell_type": "markdown",
      "source": [
        "Driver/Tester codes"
      ],
      "metadata": {
        "id": "UkbYl775jSQO"
      }
    },
    {
      "cell_type": "code",
      "source": [
        "# YOU MUST RUN THIS CELL TO TEST YOUR CODE\n",
        "# If you modify the method calls the outputs will be changed as well\n",
        "call_center = CallQueue()\n",
        "# Enqueueing customers\n",
        "call_center.enqueue_call(101, False)  # Regular customer\n",
        "call_center.enqueue_call(201, True)   # VIP customer\n",
        "call_center.enqueue_call(102, False)  # Regular customer\n",
        "call_center.enqueue_call(202, True)   # VIP customer\n",
        "call_center.enqueue_call(103, False)  # Regular customer\n",
        "\n",
        "call_center.display_queue()\n",
        "\n",
        "# Processing calls\n",
        "call_center.dequeue_call()\n",
        "call_center.dequeue_call()\n",
        "call_center.dequeue_call()\n",
        "call_center.dequeue_call()\n",
        "call_center.dequeue_call()\n",
        "call_center.dequeue_call()  # No more calls\n",
        "\n",
        "call_center.display_queue()\n",
        "\n",
        "#   ::Expected Ouput::\n",
        "\n",
        "# Customer 101 added to Regular queue.\n",
        "# Customer 201 added to VIP queue.\n",
        "# Customer 102 added to Regular queue.\n",
        "# Customer 202 added to VIP queue.\n",
        "# Customer 103 added to Regular queue.\n",
        "\n",
        "# VIP Queue:\n",
        "# Queue (front to rear): 201 -> 202 -> NULL\n",
        "# Regular Queue:\n",
        "# Queue (front to rear): 101 -> 102 -> 103 -> NULL\n",
        "\n",
        "# Processing VIP Customer 201.\n",
        "# Processing VIP Customer 202.\n",
        "# Processing Regular Customer 101.\n",
        "# Processing Regular Customer 102.\n",
        "# Processing Regular Customer 103.\n",
        "# No calls in the queue.\n",
        "\n",
        "# VIP Queue:\n",
        "# Queue (front to rear): NULL\n",
        "# Regular Queue:\n",
        "# Queue (front to rear): NULL"
      ],
      "metadata": {
        "id": "-AnbNPgRjSkM",
        "colab": {
          "base_uri": "https://localhost:8080/",
          "height": 448
        },
        "outputId": "4fb42ac0-32f7-4c2e-b763-e425d8c34a94"
      },
      "execution_count": null,
      "outputs": [
        {
          "output_type": "stream",
          "name": "stdout",
          "text": [
            "Customer 101 added to Regular queue.\n",
            "Customer 201 added to VIP queue.\n",
            "Customer 102 added to Regular queue.\n",
            "Customer 202 added to VIP queue.\n",
            "Customer 103 added to Regular queue.\n",
            "VIP Queue:\n"
          ]
        },
        {
          "output_type": "error",
          "ename": "AttributeError",
          "evalue": "'LinkedListQueue' object has no attribute 'display'",
          "traceback": [
            "\u001b[0;31m---------------------------------------------------------------------------\u001b[0m",
            "\u001b[0;31mAttributeError\u001b[0m                            Traceback (most recent call last)",
            "\u001b[0;32m<ipython-input-31-c36aec1958dd>\u001b[0m in \u001b[0;36m<cell line: 0>\u001b[0;34m()\u001b[0m\n\u001b[1;32m      9\u001b[0m \u001b[0mcall_center\u001b[0m\u001b[0;34m.\u001b[0m\u001b[0menqueue_call\u001b[0m\u001b[0;34m(\u001b[0m\u001b[0;36m103\u001b[0m\u001b[0;34m,\u001b[0m \u001b[0;32mFalse\u001b[0m\u001b[0;34m)\u001b[0m  \u001b[0;31m# Regular customer\u001b[0m\u001b[0;34m\u001b[0m\u001b[0;34m\u001b[0m\u001b[0m\n\u001b[1;32m     10\u001b[0m \u001b[0;34m\u001b[0m\u001b[0m\n\u001b[0;32m---> 11\u001b[0;31m \u001b[0mcall_center\u001b[0m\u001b[0;34m.\u001b[0m\u001b[0mdisplay_queue\u001b[0m\u001b[0;34m(\u001b[0m\u001b[0;34m)\u001b[0m\u001b[0;34m\u001b[0m\u001b[0;34m\u001b[0m\u001b[0m\n\u001b[0m\u001b[1;32m     12\u001b[0m \u001b[0;34m\u001b[0m\u001b[0m\n\u001b[1;32m     13\u001b[0m \u001b[0;31m# Processing calls\u001b[0m\u001b[0;34m\u001b[0m\u001b[0;34m\u001b[0m\u001b[0m\n",
            "\u001b[0;32m<ipython-input-30-a8dda1d0e800>\u001b[0m in \u001b[0;36mdisplay_queue\u001b[0;34m(self)\u001b[0m\n\u001b[1;32m     26\u001b[0m     \u001b[0;32mdef\u001b[0m \u001b[0mdisplay_queue\u001b[0m\u001b[0;34m(\u001b[0m\u001b[0mself\u001b[0m\u001b[0;34m)\u001b[0m\u001b[0;34m:\u001b[0m\u001b[0;34m\u001b[0m\u001b[0;34m\u001b[0m\u001b[0m\n\u001b[1;32m     27\u001b[0m         \u001b[0mprint\u001b[0m\u001b[0;34m(\u001b[0m\u001b[0;34m\"VIP Queue:\"\u001b[0m\u001b[0;34m)\u001b[0m\u001b[0;34m\u001b[0m\u001b[0;34m\u001b[0m\u001b[0m\n\u001b[0;32m---> 28\u001b[0;31m         \u001b[0mself\u001b[0m\u001b[0;34m.\u001b[0m\u001b[0mvip_queue\u001b[0m\u001b[0;34m.\u001b[0m\u001b[0mdisplay\u001b[0m\u001b[0;34m(\u001b[0m\u001b[0;34m)\u001b[0m\u001b[0;34m\u001b[0m\u001b[0;34m\u001b[0m\u001b[0m\n\u001b[0m\u001b[1;32m     29\u001b[0m         \u001b[0mprint\u001b[0m\u001b[0;34m(\u001b[0m\u001b[0;34m\"Regular Queue:\"\u001b[0m\u001b[0;34m)\u001b[0m\u001b[0;34m\u001b[0m\u001b[0;34m\u001b[0m\u001b[0m\n\u001b[1;32m     30\u001b[0m         \u001b[0mself\u001b[0m\u001b[0;34m.\u001b[0m\u001b[0mregular_queue\u001b[0m\u001b[0;34m.\u001b[0m\u001b[0mdisplay\u001b[0m\u001b[0;34m(\u001b[0m\u001b[0;34m)\u001b[0m\u001b[0;34m\u001b[0m\u001b[0;34m\u001b[0m\u001b[0m\n",
            "\u001b[0;31mAttributeError\u001b[0m: 'LinkedListQueue' object has no attribute 'display'"
          ]
        }
      ]
    }
  ]
}